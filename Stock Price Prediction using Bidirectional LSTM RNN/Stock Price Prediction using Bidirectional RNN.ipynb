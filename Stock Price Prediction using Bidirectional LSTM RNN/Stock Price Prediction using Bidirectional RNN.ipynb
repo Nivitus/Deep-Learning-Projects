{
 "cells": [
  {
   "cell_type": "code",
   "execution_count": 1,
   "metadata": {},
   "outputs": [],
   "source": [
    "import pandas_datareader as pdr\n",
    "import pandas as pd\n",
    "import numpy as np\n",
    "import seaborn as sns\n",
    "key='4f14d5e92fa70f090e8b848ca6d397b75a63d149'"
   ]
  },
  {
   "cell_type": "code",
   "execution_count": null,
   "metadata": {},
   "outputs": [],
   "source": [
    "df = pdr.get_data_tiingo('NIVI',api_key='4f14d5e92fa70f090e8b848ca6d397b75a63d149')"
   ]
  },
  {
   "cell_type": "code",
   "execution_count": null,
   "metadata": {},
   "outputs": [],
   "source": [
    "df.to_csv('APPL.csv')"
   ]
  },
  {
   "cell_type": "code",
   "execution_count": 4,
   "metadata": {},
   "outputs": [],
   "source": [
    "df = pd.read_csv('APPL.csv')"
   ]
  },
  {
   "cell_type": "code",
   "execution_count": 5,
   "metadata": {},
   "outputs": [
    {
     "data": {
      "text/html": [
       "<div>\n",
       "<style scoped>\n",
       "    .dataframe tbody tr th:only-of-type {\n",
       "        vertical-align: middle;\n",
       "    }\n",
       "\n",
       "    .dataframe tbody tr th {\n",
       "        vertical-align: top;\n",
       "    }\n",
       "\n",
       "    .dataframe thead th {\n",
       "        text-align: right;\n",
       "    }\n",
       "</style>\n",
       "<table border=\"1\" class=\"dataframe\">\n",
       "  <thead>\n",
       "    <tr style=\"text-align: right;\">\n",
       "      <th></th>\n",
       "      <th>symbol</th>\n",
       "      <th>date</th>\n",
       "      <th>close</th>\n",
       "      <th>high</th>\n",
       "      <th>low</th>\n",
       "      <th>open</th>\n",
       "      <th>volume</th>\n",
       "      <th>adjClose</th>\n",
       "      <th>adjHigh</th>\n",
       "      <th>adjLow</th>\n",
       "      <th>adjOpen</th>\n",
       "      <th>adjVolume</th>\n",
       "      <th>divCash</th>\n",
       "      <th>splitFactor</th>\n",
       "    </tr>\n",
       "  </thead>\n",
       "  <tbody>\n",
       "    <tr>\n",
       "      <th>0</th>\n",
       "      <td>AAPL</td>\n",
       "      <td>2015-11-11 00:00:00+00:00</td>\n",
       "      <td>116.110</td>\n",
       "      <td>117.42</td>\n",
       "      <td>115.21</td>\n",
       "      <td>116.37</td>\n",
       "      <td>45217971</td>\n",
       "      <td>26.889750</td>\n",
       "      <td>27.193131</td>\n",
       "      <td>26.681320</td>\n",
       "      <td>26.949963</td>\n",
       "      <td>180871884</td>\n",
       "      <td>0.0</td>\n",
       "      <td>1.0</td>\n",
       "    </tr>\n",
       "    <tr>\n",
       "      <th>1</th>\n",
       "      <td>AAPL</td>\n",
       "      <td>2015-11-12 00:00:00+00:00</td>\n",
       "      <td>115.720</td>\n",
       "      <td>116.82</td>\n",
       "      <td>115.65</td>\n",
       "      <td>116.26</td>\n",
       "      <td>32525579</td>\n",
       "      <td>26.799431</td>\n",
       "      <td>27.054178</td>\n",
       "      <td>26.783219</td>\n",
       "      <td>26.924489</td>\n",
       "      <td>130102316</td>\n",
       "      <td>0.0</td>\n",
       "      <td>1.0</td>\n",
       "    </tr>\n",
       "    <tr>\n",
       "      <th>2</th>\n",
       "      <td>AAPL</td>\n",
       "      <td>2015-11-13 00:00:00+00:00</td>\n",
       "      <td>112.340</td>\n",
       "      <td>115.57</td>\n",
       "      <td>112.27</td>\n",
       "      <td>115.20</td>\n",
       "      <td>45812403</td>\n",
       "      <td>26.016661</td>\n",
       "      <td>26.764692</td>\n",
       "      <td>26.000450</td>\n",
       "      <td>26.679005</td>\n",
       "      <td>183249612</td>\n",
       "      <td>0.0</td>\n",
       "      <td>1.0</td>\n",
       "    </tr>\n",
       "    <tr>\n",
       "      <th>3</th>\n",
       "      <td>AAPL</td>\n",
       "      <td>2015-11-16 00:00:00+00:00</td>\n",
       "      <td>114.175</td>\n",
       "      <td>114.24</td>\n",
       "      <td>111.00</td>\n",
       "      <td>111.38</td>\n",
       "      <td>38106701</td>\n",
       "      <td>26.441626</td>\n",
       "      <td>26.456680</td>\n",
       "      <td>25.706333</td>\n",
       "      <td>25.794336</td>\n",
       "      <td>152426804</td>\n",
       "      <td>0.0</td>\n",
       "      <td>1.0</td>\n",
       "    </tr>\n",
       "    <tr>\n",
       "      <th>4</th>\n",
       "      <td>AAPL</td>\n",
       "      <td>2015-11-17 00:00:00+00:00</td>\n",
       "      <td>113.690</td>\n",
       "      <td>115.05</td>\n",
       "      <td>113.32</td>\n",
       "      <td>114.92</td>\n",
       "      <td>27583101</td>\n",
       "      <td>26.329306</td>\n",
       "      <td>26.644266</td>\n",
       "      <td>26.243618</td>\n",
       "      <td>26.614160</td>\n",
       "      <td>110332404</td>\n",
       "      <td>0.0</td>\n",
       "      <td>1.0</td>\n",
       "    </tr>\n",
       "  </tbody>\n",
       "</table>\n",
       "</div>"
      ],
      "text/plain": [
       "  symbol                       date    close    high     low    open  \\\n",
       "0   AAPL  2015-11-11 00:00:00+00:00  116.110  117.42  115.21  116.37   \n",
       "1   AAPL  2015-11-12 00:00:00+00:00  115.720  116.82  115.65  116.26   \n",
       "2   AAPL  2015-11-13 00:00:00+00:00  112.340  115.57  112.27  115.20   \n",
       "3   AAPL  2015-11-16 00:00:00+00:00  114.175  114.24  111.00  111.38   \n",
       "4   AAPL  2015-11-17 00:00:00+00:00  113.690  115.05  113.32  114.92   \n",
       "\n",
       "     volume   adjClose    adjHigh     adjLow    adjOpen  adjVolume  divCash  \\\n",
       "0  45217971  26.889750  27.193131  26.681320  26.949963  180871884      0.0   \n",
       "1  32525579  26.799431  27.054178  26.783219  26.924489  130102316      0.0   \n",
       "2  45812403  26.016661  26.764692  26.000450  26.679005  183249612      0.0   \n",
       "3  38106701  26.441626  26.456680  25.706333  25.794336  152426804      0.0   \n",
       "4  27583101  26.329306  26.644266  26.243618  26.614160  110332404      0.0   \n",
       "\n",
       "   splitFactor  \n",
       "0          1.0  \n",
       "1          1.0  \n",
       "2          1.0  \n",
       "3          1.0  \n",
       "4          1.0  "
      ]
     },
     "execution_count": 5,
     "metadata": {},
     "output_type": "execute_result"
    }
   ],
   "source": [
    "df.head()"
   ]
  },
  {
   "cell_type": "code",
   "execution_count": 53,
   "metadata": {},
   "outputs": [],
   "source": [
    "df1 = df.reset_index()['close']"
   ]
  },
  {
   "cell_type": "code",
   "execution_count": 54,
   "metadata": {},
   "outputs": [
    {
     "data": {
      "text/plain": [
       "[<matplotlib.lines.Line2D at 0x207e4437308>]"
      ]
     },
     "execution_count": 54,
     "metadata": {},
     "output_type": "execute_result"
    },
    {
     "data": {
      "image/png": "[encoded data removed]",
      "text/plain": [
       "<Figure size 432x288 with 1 Axes>"
      ]
     },
     "metadata": {
      "needs_background": "light"
     },
     "output_type": "display_data"
    }
   ],
   "source": [
    "from matplotlib import pyplot as plt\n",
    "plt.plot(df1)"
   ]
  },
  {
   "cell_type": "code",
   "execution_count": 8,
   "metadata": {},
   "outputs": [
    {
     "data": {
      "text/plain": [
       "0       116.110\n",
       "1       115.720\n",
       "2       112.340\n",
       "3       114.175\n",
       "4       113.690\n",
       "         ...   \n",
       "1252    108.770\n",
       "1253    110.440\n",
       "1254    114.950\n",
       "1255    119.030\n",
       "1256    118.690\n",
       "Name: close, Length: 1257, dtype: float64"
      ]
     },
     "execution_count": 8,
     "metadata": {},
     "output_type": "execute_result"
    }
   ],
   "source": [
    "df1"
   ]
  },
  {
   "cell_type": "code",
   "execution_count": 9,
   "metadata": {},
   "outputs": [
    {
     "data": {
      "text/plain": [
       "(1257,)"
      ]
     },
     "execution_count": 9,
     "metadata": {},
     "output_type": "execute_result"
    }
   ],
   "source": [
    " df1.shape"
   ]
  },
  {
   "cell_type": "code",
   "execution_count": 10,
   "metadata": {},
   "outputs": [],
   "source": [
    "from sklearn.preprocessing import MinMaxScaler"
   ]
  },
  {
   "cell_type": "code",
   "execution_count": 11,
   "metadata": {},
   "outputs": [],
   "source": [
    "scaler = MinMaxScaler(feature_range=(0,1))\n",
    "df1 = scaler.fit_transform(np.array(df1).reshape(-1,1))"
   ]
  },
  {
   "cell_type": "code",
   "execution_count": 12,
   "metadata": {},
   "outputs": [
    {
     "data": {
      "text/plain": [
       "array([[0.06198437],\n",
       "       [0.0610463 ],\n",
       "       [0.05291642],\n",
       "       ...,\n",
       "       [0.05919423],\n",
       "       [0.06900782],\n",
       "       [0.06819002]])"
      ]
     },
     "execution_count": 12,
     "metadata": {},
     "output_type": "execute_result"
    }
   ],
   "source": [
    "df1"
   ]
  },
  {
   "cell_type": "code",
   "execution_count": 13,
   "metadata": {},
   "outputs": [
    {
     "data": {
      "text/plain": [
       "(1257, 1)"
      ]
     },
     "execution_count": 13,
     "metadata": {},
     "output_type": "execute_result"
    }
   ],
   "source": [
    "df1.shape"
   ]
  },
  {
   "cell_type": "code",
   "execution_count": 14,
   "metadata": {},
   "outputs": [],
   "source": [
    "## Spliting data set for training and testing"
   ]
  },
  {
   "cell_type": "code",
   "execution_count": 15,
   "metadata": {},
   "outputs": [],
   "source": [
    "train_size = int(len(df1)*0.65)\n",
    "test_size = len(df1)-train_size\n",
    "train_data,test_data = df1[0:train_size,:],df1[train_size:len(df1),:1]"
   ]
  },
  {
   "cell_type": "code",
   "execution_count": 16,
   "metadata": {},
   "outputs": [
    {
     "name": "stdout",
     "output_type": "stream",
     "text": [
      "817\n",
      "440\n"
     ]
    }
   ],
   "source": [
    "print(len(train_data)) \n",
    "print(len(test_data))"
   ]
  },
  {
   "cell_type": "code",
   "execution_count": 17,
   "metadata": {},
   "outputs": [],
   "source": [
    "# Convert array values into dataset matrix value\n",
    "def create_dataset(dataset, time_step=1):\n",
    "    dataX, dataY = [], []\n",
    "    for i in range(len(dataset)-time_step-1):\n",
    "        a = dataset[i:(i+time_step), 0]\n",
    "        dataX.append(a)\n",
    "        dataY.append(dataset[i+time_step, 0])\n",
    "    return np.array(dataX), np.array(dataY)    "
   ]
  },
  {
   "cell_type": "code",
   "execution_count": 18,
   "metadata": {},
   "outputs": [],
   "source": [
    "# reshape the array X=k,k+1,k+2,k+3,k+3, || Y=k+4 .... k+n(limited boundry)\n",
    "time_step = 100\n",
    "X_train, y_train = create_dataset(train_data, time_step)\n",
    "X_test, y_test = create_dataset(test_data, time_step)"
   ]
  },
  {
   "cell_type": "code",
   "execution_count": 19,
   "metadata": {},
   "outputs": [
    {
     "name": "stdout",
     "output_type": "stream",
     "text": [
      "(716, 100)\n",
      "(716,)\n"
     ]
    },
    {
     "data": {
      "text/plain": [
       "(None, None)"
      ]
     },
     "execution_count": 19,
     "metadata": {},
     "output_type": "execute_result"
    }
   ],
   "source": [
    "print(X_train.shape), print(y_train.shape)"
   ]
  },
  {
   "cell_type": "code",
   "execution_count": 20,
   "metadata": {},
   "outputs": [
    {
     "name": "stdout",
     "output_type": "stream",
     "text": [
      "(339, 100)\n",
      "(339,)\n"
     ]
    },
    {
     "data": {
      "text/plain": [
       "(None, None)"
      ]
     },
     "execution_count": 20,
     "metadata": {},
     "output_type": "execute_result"
    }
   ],
   "source": [
    "print(X_test.shape), print(y_test.shape)"
   ]
  },
  {
   "cell_type": "code",
   "execution_count": 21,
   "metadata": {},
   "outputs": [],
   "source": [
    "# Reshape inputs be [Samples, time_Step, features]\n",
    "X_train = X_train.reshape(X_train.shape[0],X_train.shape[1], 1)\n",
    "X_test = X_test.reshape(X_test.shape[0],X_test.shape[1], 1)"
   ]
  },
  {
   "cell_type": "code",
   "execution_count": 22,
   "metadata": {},
   "outputs": [],
   "source": [
    "# Create LSTM model"
   ]
  },
  {
   "cell_type": "code",
   "execution_count": 23,
   "metadata": {},
   "outputs": [],
   "source": [
    "from tensorflow.keras.models import Sequential\n",
    "from tensorflow.keras.layers import Dense\n",
    "from tensorflow.keras.layers import LSTM"
   ]
  },
  {
   "cell_type": "code",
   "execution_count": 24,
   "metadata": {},
   "outputs": [],
   "source": [
    "model = Sequential()\n",
    "model.add(LSTM(50, return_sequences=True,input_shape=(100,1)))\n",
    "model.add(LSTM(50, return_sequences=True))\n",
    "model.add(LSTM(50))\n",
    "model.add(Dense(1)) \n",
    "model.compile(loss='mean_squared_error',optimizer='adam')          "
   ]
  },
  {
   "cell_type": "code",
   "execution_count": 25,
   "metadata": {},
   "outputs": [
    {
     "name": "stdout",
     "output_type": "stream",
     "text": [
      "Model: \"sequential\"\n",
      "_________________________________________________________________\n",
      "Layer (type)                 Output Shape              Param #   \n",
      "=================================================================\n",
      "lstm (LSTM)                  (None, 100, 50)           10400     \n",
      "_________________________________________________________________\n",
      "lstm_1 (LSTM)                (None, 100, 50)           20200     \n",
      "_________________________________________________________________\n",
      "lstm_2 (LSTM)                (None, 50)                20200     \n",
      "_________________________________________________________________\n",
      "dense (Dense)                (None, 1)                 51        \n",
      "=================================================================\n",
      "Total params: 50,851\n",
      "Trainable params: 50,851\n",
      "Non-trainable params: 0\n",
      "_________________________________________________________________\n"
     ]
    }
   ],
   "source": [
    "model.summary()"
   ]
  },
  {
   "cell_type": "code",
   "execution_count": 26,
   "metadata": {},
   "outputs": [
    {
     "name": "stdout",
     "output_type": "stream",
     "text": [
      "Epoch 1/100\n",
      "12/12 [==============================] - 5s 445ms/step - loss: 0.0079 - val_loss: 0.0557\n",
      "Epoch 2/100\n",
      "12/12 [==============================] - 3s 280ms/step - loss: 0.0021 - val_loss: 0.0210\n",
      "Epoch 3/100\n",
      "12/12 [==============================] - 3s 279ms/step - loss: 6.4429e-04 - val_loss: 0.0206\n",
      "Epoch 4/100\n",
      "12/12 [==============================] - 3s 224ms/step - loss: 4.1138e-04 - val_loss: 0.0194\n",
      "Epoch 5/100\n",
      "12/12 [==============================] - 3s 226ms/step - loss: 3.5037e-04 - val_loss: 0.0190\n",
      "Epoch 6/100\n",
      "12/12 [==============================] - 3s 223ms/step - loss: 3.3517e-04 - val_loss: 0.0184\n",
      "Epoch 7/100\n",
      "12/12 [==============================] - 3s 284ms/step - loss: 3.1939e-04 - val_loss: 0.0180\n",
      "Epoch 8/100\n",
      "12/12 [==============================] - 3s 270ms/step - loss: 3.0841e-04 - val_loss: 0.0176\n",
      "Epoch 9/100\n",
      "12/12 [==============================] - 3s 276ms/step - loss: 2.9938e-04 - val_loss: 0.0173\n",
      "Epoch 10/100\n",
      "12/12 [==============================] - 3s 291ms/step - loss: 2.9764e-04 - val_loss: 0.0170\n",
      "Epoch 11/100\n",
      "12/12 [==============================] - 3s 270ms/step - loss: 2.8733e-04 - val_loss: 0.0164\n",
      "Epoch 12/100\n",
      "12/12 [==============================] - 3s 272ms/step - loss: 2.7626e-04 - val_loss: 0.0159\n",
      "Epoch 13/100\n",
      "12/12 [==============================] - 3s 267ms/step - loss: 2.6366e-04 - val_loss: 0.0153\n",
      "Epoch 14/100\n",
      "12/12 [==============================] - 3s 235ms/step - loss: 2.5869e-04 - val_loss: 0.0156\n",
      "Epoch 15/100\n",
      "12/12 [==============================] - 3s 287ms/step - loss: 2.5707e-04 - val_loss: 0.0146\n",
      "Epoch 16/100\n",
      "12/12 [==============================] - 3s 291ms/step - loss: 2.3153e-04 - val_loss: 0.0149\n",
      "Epoch 17/100\n",
      "12/12 [==============================] - 3s 275ms/step - loss: 2.4184e-04 - val_loss: 0.0139\n",
      "Epoch 18/100\n",
      "12/12 [==============================] - 3s 289ms/step - loss: 2.4023e-04 - val_loss: 0.0134\n",
      "Epoch 19/100\n",
      "12/12 [==============================] - 4s 297ms/step - loss: 2.6742e-04 - val_loss: 0.0150\n",
      "Epoch 20/100\n",
      "12/12 [==============================] - 3s 283ms/step - loss: 2.4798e-04 - val_loss: 0.0131\n",
      "Epoch 21/100\n",
      "12/12 [==============================] - 4s 293ms/step - loss: 2.2893e-04 - val_loss: 0.0140\n",
      "Epoch 22/100\n",
      "12/12 [==============================] - 4s 297ms/step - loss: 2.2884e-04 - val_loss: 0.0129\n",
      "Epoch 23/100\n",
      "12/12 [==============================] - 3s 273ms/step - loss: 2.3670e-04 - val_loss: 0.0146\n",
      "Epoch 24/100\n",
      "12/12 [==============================] - 3s 290ms/step - loss: 1.9657e-04 - val_loss: 0.0137\n",
      "Epoch 25/100\n",
      "12/12 [==============================] - 4s 295ms/step - loss: 2.0180e-04 - val_loss: 0.0132\n",
      "Epoch 26/100\n",
      "12/12 [==============================] - 3s 280ms/step - loss: 1.9076e-04 - val_loss: 0.0145\n",
      "Epoch 27/100\n",
      "12/12 [==============================] - 3s 289ms/step - loss: 1.8694e-04 - val_loss: 0.0130\n",
      "Epoch 28/100\n",
      "12/12 [==============================] - 4s 297ms/step - loss: 2.0616e-04 - val_loss: 0.0142\n",
      "Epoch 29/100\n",
      "12/12 [==============================] - 3s 269ms/step - loss: 2.6671e-04 - val_loss: 0.0131\n",
      "Epoch 30/100\n",
      "12/12 [==============================] - 3s 285ms/step - loss: 1.9618e-04 - val_loss: 0.0124\n",
      "Epoch 31/100\n",
      "12/12 [==============================] - 4s 295ms/step - loss: 1.9824e-04 - val_loss: 0.0138\n",
      "Epoch 32/100\n",
      "12/12 [==============================] - 3s 281ms/step - loss: 1.9470e-04 - val_loss: 0.0126\n",
      "Epoch 33/100\n",
      "12/12 [==============================] - 3s 287ms/step - loss: 1.7369e-04 - val_loss: 0.0129\n",
      "Epoch 34/100\n",
      "12/12 [==============================] - 4s 298ms/step - loss: 1.7026e-04 - val_loss: 0.0131\n",
      "Epoch 35/100\n",
      "12/12 [==============================] - 3s 276ms/step - loss: 1.6784e-04 - val_loss: 0.0129\n",
      "Epoch 36/100\n",
      "12/12 [==============================] - 3s 286ms/step - loss: 1.7643e-04 - val_loss: 0.0143\n",
      "Epoch 37/100\n",
      "12/12 [==============================] - 4s 302ms/step - loss: 1.7368e-04 - val_loss: 0.0128\n",
      "Epoch 38/100\n",
      "12/12 [==============================] - 3s 274ms/step - loss: 1.7487e-04 - val_loss: 0.0129\n",
      "Epoch 39/100\n",
      "12/12 [==============================] - 3s 255ms/step - loss: 1.6419e-04 - val_loss: 0.0131\n",
      "Epoch 40/100\n",
      "12/12 [==============================] - 3s 265ms/step - loss: 1.6660e-04 - val_loss: 0.0124\n",
      "Epoch 41/100\n",
      "12/12 [==============================] - 3s 239ms/step - loss: 1.8146e-04 - val_loss: 0.0132\n",
      "Epoch 42/100\n",
      "12/12 [==============================] - 3s 253ms/step - loss: 1.5921e-04 - val_loss: 0.0123\n",
      "Epoch 43/100\n",
      "12/12 [==============================] - 3s 254ms/step - loss: 1.7082e-04 - val_loss: 0.0118\n",
      "Epoch 44/100\n",
      "12/12 [==============================] - 3s 274ms/step - loss: 1.5869e-04 - val_loss: 0.0128\n",
      "Epoch 45/100\n",
      "12/12 [==============================] - 4s 293ms/step - loss: 1.5547e-04 - val_loss: 0.0122\n",
      "Epoch 46/100\n",
      "12/12 [==============================] - 3s 268ms/step - loss: 1.5192e-04 - val_loss: 0.0130\n",
      "Epoch 47/100\n",
      "12/12 [==============================] - 4s 295ms/step - loss: 1.5333e-04 - val_loss: 0.0121\n",
      "Epoch 48/100\n",
      "12/12 [==============================] - 3s 227ms/step - loss: 1.6305e-04 - val_loss: 0.0131\n",
      "Epoch 49/100\n",
      "12/12 [==============================] - 3s 238ms/step - loss: 1.5881e-04 - val_loss: 0.0116\n",
      "Epoch 50/100\n",
      "12/12 [==============================] - 3s 239ms/step - loss: 1.4779e-04 - val_loss: 0.0117\n",
      "Epoch 51/100\n",
      "12/12 [==============================] - 3s 221ms/step - loss: 1.5084e-04 - val_loss: 0.0114\n",
      "Epoch 52/100\n",
      "12/12 [==============================] - 3s 249ms/step - loss: 1.9362e-04 - val_loss: 0.0117\n",
      "Epoch 53/100\n",
      "12/12 [==============================] - 3s 246ms/step - loss: 1.6403e-04 - val_loss: 0.0110\n",
      "Epoch 54/100\n",
      "12/12 [==============================] - 3s 233ms/step - loss: 1.6595e-04 - val_loss: 0.0110\n",
      "Epoch 55/100\n",
      "12/12 [==============================] - 3s 241ms/step - loss: 1.5622e-04 - val_loss: 0.0115\n",
      "Epoch 56/100\n",
      "12/12 [==============================] - 3s 278ms/step - loss: 1.4690e-04 - val_loss: 0.0115\n",
      "Epoch 57/100\n",
      "12/12 [==============================] - 4s 294ms/step - loss: 1.4427e-04 - val_loss: 0.0112\n",
      "Epoch 58/100\n",
      "12/12 [==============================] - 3s 267ms/step - loss: 1.4099e-04 - val_loss: 0.0111\n",
      "Epoch 59/100\n",
      "12/12 [==============================] - 3s 279ms/step - loss: 1.4089e-04 - val_loss: 0.0111\n",
      "Epoch 60/100\n",
      "12/12 [==============================] - 3s 291ms/step - loss: 1.5203e-04 - val_loss: 0.0113\n",
      "Epoch 61/100\n",
      "12/12 [==============================] - 3s 277ms/step - loss: 1.3802e-04 - val_loss: 0.0107\n",
      "Epoch 62/100\n",
      "12/12 [==============================] - 3s 265ms/step - loss: 1.3453e-04 - val_loss: 0.0103\n",
      "Epoch 63/100\n",
      "12/12 [==============================] - 3s 273ms/step - loss: 1.3508e-04 - val_loss: 0.0105\n",
      "Epoch 64/100\n",
      "12/12 [==============================] - 3s 267ms/step - loss: 1.3654e-04 - val_loss: 0.0103\n",
      "Epoch 65/100\n",
      "12/12 [==============================] - 3s 273ms/step - loss: 1.3817e-04 - val_loss: 0.0100\n",
      "Epoch 66/100\n",
      "12/12 [==============================] - 3s 264ms/step - loss: 1.2875e-04 - val_loss: 0.0097\n",
      "Epoch 67/100\n",
      "12/12 [==============================] - 3s 265ms/step - loss: 1.2643e-04 - val_loss: 0.0098\n",
      "Epoch 68/100\n",
      "12/12 [==============================] - 4s 297ms/step - loss: 1.2993e-04 - val_loss: 0.0097\n",
      "Epoch 69/100\n",
      "12/12 [==============================] - 3s 284ms/step - loss: 1.2327e-04 - val_loss: 0.0097\n",
      "Epoch 70/100\n",
      "12/12 [==============================] - 3s 279ms/step - loss: 1.2733e-04 - val_loss: 0.0094\n",
      "Epoch 71/100\n",
      "12/12 [==============================] - 4s 299ms/step - loss: 1.1706e-04 - val_loss: 0.0097\n",
      "Epoch 72/100\n",
      "12/12 [==============================] - 3s 282ms/step - loss: 1.3036e-04 - val_loss: 0.0092\n",
      "Epoch 73/100\n",
      "12/12 [==============================] - 3s 276ms/step - loss: 1.1878e-04 - val_loss: 0.0091\n",
      "Epoch 74/100\n",
      "12/12 [==============================] - 4s 297ms/step - loss: 1.1180e-04 - val_loss: 0.0093\n",
      "Epoch 75/100\n",
      "12/12 [==============================] - 3s 275ms/step - loss: 1.2313e-04 - val_loss: 0.0087\n",
      "Epoch 76/100\n",
      "12/12 [==============================] - 3s 279ms/step - loss: 1.1321e-04 - val_loss: 0.0088\n",
      "Epoch 77/100\n",
      "12/12 [==============================] - 3s 288ms/step - loss: 1.3944e-04 - val_loss: 0.0084\n",
      "Epoch 78/100\n",
      "12/12 [==============================] - 3s 275ms/step - loss: 1.3003e-04 - val_loss: 0.0088\n",
      "Epoch 79/100\n",
      "12/12 [==============================] - 3s 281ms/step - loss: 1.3130e-04 - val_loss: 0.0081\n",
      "Epoch 80/100\n",
      "12/12 [==============================] - 4s 298ms/step - loss: 1.0686e-04 - val_loss: 0.0086\n",
      "Epoch 81/100\n",
      "12/12 [==============================] - 3s 278ms/step - loss: 1.1325e-04 - val_loss: 0.0082\n",
      "Epoch 82/100\n",
      "12/12 [==============================] - 3s 281ms/step - loss: 9.9116e-05 - val_loss: 0.0080\n",
      "Epoch 83/100\n",
      "12/12 [==============================] - 3s 287ms/step - loss: 9.9439e-05 - val_loss: 0.0077\n",
      "Epoch 84/100\n",
      "12/12 [==============================] - 3s 280ms/step - loss: 1.0894e-04 - val_loss: 0.0078\n",
      "Epoch 85/100\n",
      "12/12 [==============================] - 3s 280ms/step - loss: 1.2582e-04 - val_loss: 0.0075\n",
      "Epoch 86/100\n",
      "12/12 [==============================] - 4s 294ms/step - loss: 1.0352e-04 - val_loss: 0.0090\n",
      "Epoch 87/100\n",
      "12/12 [==============================] - 3s 250ms/step - loss: 1.0445e-04 - val_loss: 0.0079\n",
      "Epoch 88/100\n",
      "12/12 [==============================] - 3s 275ms/step - loss: 8.9399e-05 - val_loss: 0.0076\n",
      "Epoch 89/100\n",
      "12/12 [==============================] - 3s 239ms/step - loss: 9.6382e-05 - val_loss: 0.0082\n",
      "Epoch 90/100\n",
      "12/12 [==============================] - 3s 243ms/step - loss: 9.6870e-05 - val_loss: 0.0076\n",
      "Epoch 91/100\n",
      "12/12 [==============================] - 4s 294ms/step - loss: 8.2493e-05 - val_loss: 0.0073\n",
      "Epoch 92/100\n",
      "12/12 [==============================] - 3s 255ms/step - loss: 8.8843e-05 - val_loss: 0.0075\n",
      "Epoch 93/100\n",
      "12/12 [==============================] - 3s 254ms/step - loss: 8.1471e-05 - val_loss: 0.0075\n",
      "Epoch 94/100\n",
      "12/12 [==============================] - 4s 305ms/step - loss: 8.2435e-05 - val_loss: 0.0082\n",
      "Epoch 95/100\n",
      "12/12 [==============================] - 3s 238ms/step - loss: 8.4510e-05 - val_loss: 0.0074\n",
      "Epoch 96/100\n",
      "12/12 [==============================] - 3s 267ms/step - loss: 8.7818e-05 - val_loss: 0.0073\n",
      "Epoch 97/100\n",
      "12/12 [==============================] - 4s 308ms/step - loss: 8.2901e-05 - val_loss: 0.0072\n",
      "Epoch 98/100\n",
      "12/12 [==============================] - 3s 275ms/step - loss: 9.0038e-05 - val_loss: 0.0079\n",
      "Epoch 99/100\n",
      "12/12 [==============================] - 3s 257ms/step - loss: 7.8116e-05 - val_loss: 0.0078\n",
      "Epoch 100/100\n",
      "12/12 [==============================] - 3s 276ms/step - loss: 9.2231e-05 - val_loss: 0.0085\n"
     ]
    },
    {
     "data": {
      "text/plain": [
       "<tensorflow.python.keras.callbacks.History at 0x207d6a2df08>"
      ]
     },
     "execution_count": 26,
     "metadata": {},
     "output_type": "execute_result"
    }
   ],
   "source": [
    "model.fit(X_train,y_train,validation_data=(X_test,y_test),epochs=100,batch_size=64,verbose=1)"
   ]
  },
  {
   "cell_type": "code",
   "execution_count": 27,
   "metadata": {},
   "outputs": [],
   "source": [
    "# Prediction and Performance Metrics"
   ]
  },
  {
   "cell_type": "code",
   "execution_count": 28,
   "metadata": {},
   "outputs": [],
   "source": [
    "train_predict = model.predict(X_train)\n",
    "test_predict = model.predict(X_test)"
   ]
  },
  {
   "cell_type": "code",
   "execution_count": 29,
   "metadata": {},
   "outputs": [],
   "source": [
    "## Transform back to Original form\n",
    "train_predict = scaler.inverse_transform(train_predict)\n",
    "test_predict = scaler.inverse_transform(test_predict)"
   ]
  },
  {
   "cell_type": "code",
   "execution_count": 30,
   "metadata": {},
   "outputs": [
    {
     "data": {
      "text/plain": [
       "157.61804435610296"
      ]
     },
     "execution_count": 30,
     "metadata": {},
     "output_type": "execute_result"
    }
   ],
   "source": [
    "### RMSE\n",
    "import math\n",
    "from sklearn.metrics import mean_squared_error\n",
    "math.sqrt(mean_squared_error(y_train,train_predict))"
   ]
  },
  {
   "cell_type": "code",
   "execution_count": 31,
   "metadata": {},
   "outputs": [
    {
     "data": {
      "text/plain": [
       "289.288495124246"
      ]
     },
     "execution_count": 31,
     "metadata": {},
     "output_type": "execute_result"
    }
   ],
   "source": [
    "math.sqrt(mean_squared_error(y_test,test_predict))"
   ]
  },
  {
   "cell_type": "code",
   "execution_count": 32,
   "metadata": {},
   "outputs": [
    {
     "data": {
      "image/png": "[encoded data removed]",
      "text/plain": [
       "<Figure size 432x288 with 1 Axes>"
      ]
     },
     "metadata": {
      "needs_background": "light"
     },
     "output_type": "display_data"
    }
   ],
   "source": [
    "### Plotting \n",
    "# shift train predictions for plotting\n",
    "look_back=100\n",
    "trainPredictPlot = np.empty_like(df1)\n",
    "trainPredictPlot[:, :] = np.nan\n",
    "trainPredictPlot[look_back:len(train_predict)+look_back, :] = train_predict\n",
    "# shift test predictions for plotting\n",
    "testPredictPlot = np.empty_like(df1)\n",
    "testPredictPlot[:, :] = np.nan\n",
    "testPredictPlot[len(train_predict)+(look_back*2)+1:len(df1)-1, :] = test_predict\n",
    "# plot baseline and predictions\n",
    "plt.plot(scaler.inverse_transform(df1))\n",
    "plt.plot(trainPredictPlot)\n",
    "plt.plot(testPredictPlot)\n",
    "plt.show()"
   ]
  },
  {
   "cell_type": "code",
   "execution_count": 33,
   "metadata": {},
   "outputs": [
    {
     "data": {
      "text/plain": [
       "440"
      ]
     },
     "execution_count": 33,
     "metadata": {},
     "output_type": "execute_result"
    }
   ],
   "source": [
    "len(test_data)"
   ]
  },
  {
   "cell_type": "code",
   "execution_count": 34,
   "metadata": {},
   "outputs": [
    {
     "data": {
      "text/plain": [
       "(1, 99)"
      ]
     },
     "execution_count": 34,
     "metadata": {},
     "output_type": "execute_result"
    }
   ],
   "source": [
    "x_input=test_data[341:].reshape(1,-1)\n",
    "x_input.shape"
   ]
  },
  {
   "cell_type": "code",
   "execution_count": 35,
   "metadata": {},
   "outputs": [],
   "source": [
    "temp_input=list(x_input)\n",
    "temp_input=temp_input[0].tolist()"
   ]
  },
  {
   "cell_type": "code",
   "execution_count": 36,
   "metadata": {},
   "outputs": [
    {
     "data": {
      "text/plain": [
       "99"
      ]
     },
     "execution_count": 36,
     "metadata": {},
     "output_type": "execute_result"
    }
   ],
   "source": [
    "len(temp_input)"
   ]
  },
  {
   "cell_type": "code",
   "execution_count": 37,
   "metadata": {},
   "outputs": [
    {
     "name": "stdout",
     "output_type": "stream",
     "text": [
      "WARNING:tensorflow:Model was constructed with shape (None, 100, 1) for input Tensor(\"lstm_input:0\", shape=(None, 100, 1), dtype=float32), but it was called on an input with incompatible shape (None, 99, 1).\n",
      "[0.05564859]\n",
      "100\n",
      "1 day input [0.64589296 0.6643175  0.64875526 0.66025256 0.63328924 0.65289236\n",
      " 0.66015634 0.65849669 0.65849669 0.68192423 0.6791341  0.70001203\n",
      " 0.7039567  0.70556825 0.70131088 0.71651233 0.72293446 0.711365\n",
      " 0.70948888 0.72901984 0.71595911 0.71858088 0.67598316 0.67377029\n",
      " 0.69488876 0.67990379 0.69710162 0.70816597 0.80505111 0.83081179\n",
      " 0.83781118 0.8416356  0.87858088 0.85173782 0.86727601 0.83502105\n",
      " 0.86999399 0.88923632 0.88825015 0.8853638  0.89455201 0.89594708\n",
      " 0.92064943 0.97929044 0.99360192 0.98366807 1.         0.98544799\n",
      " 0.9834997  0.09308479 0.10544799 0.09876127 0.07345761 0.07365003\n",
      " 0.05407096 0.06489477 0.0556825  0.05209862 0.06016837 0.06061335\n",
      " 0.0524113  0.04810583 0.03968731 0.04748046 0.05164161 0.04036079\n",
      " 0.04300661 0.0527721  0.05921828 0.05712568 0.06126278 0.06361996\n",
      " 0.05455201 0.06292243 0.05488876 0.05950692 0.05924233 0.06405292\n",
      " 0.08192423 0.07398677 0.07420325 0.07304871 0.06898376 0.06167168\n",
      " 0.06535177 0.06381239 0.06111846 0.0594107  0.05943476 0.06316296\n",
      " 0.05017438 0.06008419 0.044546   0.04432952 0.04834636 0.05919423\n",
      " 0.06900782 0.06819002 0.05564859]\n",
      "1 day output [[0.05979507]]\n",
      "2 day input [0.6643175  0.64875526 0.66025256 0.63328924 0.65289236 0.66015634\n",
      " 0.65849669 0.65849669 0.68192423 0.6791341  0.70001203 0.7039567\n",
      " 0.70556825 0.70131088 0.71651233 0.72293446 0.711365   0.70948888\n",
      " 0.72901984 0.71595911 0.71858088 0.67598316 0.67377029 0.69488876\n",
      " 0.67990379 0.69710162 0.70816597 0.80505111 0.83081179 0.83781118\n",
      " 0.8416356  0.87858088 0.85173782 0.86727601 0.83502105 0.86999399\n",
      " 0.88923632 0.88825015 0.8853638  0.89455201 0.89594708 0.92064943\n",
      " 0.97929044 0.99360192 0.98366807 1.         0.98544799 0.9834997\n",
      " 0.09308479 0.10544799 0.09876127 0.07345761 0.07365003 0.05407096\n",
      " 0.06489477 0.0556825  0.05209862 0.06016837 0.06061335 0.0524113\n",
      " 0.04810583 0.03968731 0.04748046 0.05164161 0.04036079 0.04300661\n",
      " 0.0527721  0.05921828 0.05712568 0.06126278 0.06361996 0.05455201\n",
      " 0.06292243 0.05488876 0.05950692 0.05924233 0.06405292 0.08192423\n",
      " 0.07398677 0.07420325 0.07304871 0.06898376 0.06167168 0.06535177\n",
      " 0.06381239 0.06111846 0.0594107  0.05943476 0.06316296 0.05017438\n",
      " 0.06008419 0.044546   0.04432952 0.04834636 0.05919423 0.06900782\n",
      " 0.06819002 0.05564859 0.05979507]\n",
      "2 day output [[0.06230069]]\n",
      "3 day input [0.64875526 0.66025256 0.63328924 0.65289236 0.66015634 0.65849669\n",
      " 0.65849669 0.68192423 0.6791341  0.70001203 0.7039567  0.70556825\n",
      " 0.70131088 0.71651233 0.72293446 0.711365   0.70948888 0.72901984\n",
      " 0.71595911 0.71858088 0.67598316 0.67377029 0.69488876 0.67990379\n",
      " 0.69710162 0.70816597 0.80505111 0.83081179 0.83781118 0.8416356\n",
      " 0.87858088 0.85173782 0.86727601 0.83502105 0.86999399 0.88923632\n",
      " 0.88825015 0.8853638  0.89455201 0.89594708 0.92064943 0.97929044\n",
      " 0.99360192 0.98366807 1.         0.98544799 0.9834997  0.09308479\n",
      " 0.10544799 0.09876127 0.07345761 0.07365003 0.05407096 0.06489477\n",
      " 0.0556825  0.05209862 0.06016837 0.06061335 0.0524113  0.04810583\n",
      " 0.03968731 0.04748046 0.05164161 0.04036079 0.04300661 0.0527721\n",
      " 0.05921828 0.05712568 0.06126278 0.06361996 0.05455201 0.06292243\n",
      " 0.05488876 0.05950692 0.05924233 0.06405292 0.08192423 0.07398677\n",
      " 0.07420325 0.07304871 0.06898376 0.06167168 0.06535177 0.06381239\n",
      " 0.06111846 0.0594107  0.05943476 0.06316296 0.05017438 0.06008419\n",
      " 0.044546   0.04432952 0.04834636 0.05919423 0.06900782 0.06819002\n",
      " 0.05564859 0.05979507 0.06230069]\n",
      "3 day output [[0.06349924]]\n",
      "4 day input [0.66025256 0.63328924 0.65289236 0.66015634 0.65849669 0.65849669\n",
      " 0.68192423 0.6791341  0.70001203 0.7039567  0.70556825 0.70131088\n",
      " 0.71651233 0.72293446 0.711365   0.70948888 0.72901984 0.71595911\n",
      " 0.71858088 0.67598316 0.67377029 0.69488876 0.67990379 0.69710162\n",
      " 0.70816597 0.80505111 0.83081179 0.83781118 0.8416356  0.87858088\n",
      " 0.85173782 0.86727601 0.83502105 0.86999399 0.88923632 0.88825015\n",
      " 0.8853638  0.89455201 0.89594708 0.92064943 0.97929044 0.99360192\n",
      " 0.98366807 1.         0.98544799 0.9834997  0.09308479 0.10544799\n",
      " 0.09876127 0.07345761 0.07365003 0.05407096 0.06489477 0.0556825\n",
      " 0.05209862 0.06016837 0.06061335 0.0524113  0.04810583 0.03968731\n",
      " 0.04748046 0.05164161 0.04036079 0.04300661 0.0527721  0.05921828\n",
      " 0.05712568 0.06126278 0.06361996 0.05455201 0.06292243 0.05488876\n",
      " 0.05950692 0.05924233 0.06405292 0.08192423 0.07398677 0.07420325\n",
      " 0.07304871 0.06898376 0.06167168 0.06535177 0.06381239 0.06111846\n",
      " 0.0594107  0.05943476 0.06316296 0.05017438 0.06008419 0.044546\n",
      " 0.04432952 0.04834636 0.05919423 0.06900782 0.06819002 0.05564859\n",
      " 0.05979507 0.06230069 0.06349924]\n",
      "4 day output [[0.06389758]]\n",
      "5 day input [0.63328924 0.65289236 0.66015634 0.65849669 0.65849669 0.68192423\n",
      " 0.6791341  0.70001203 0.7039567  0.70556825 0.70131088 0.71651233\n",
      " 0.72293446 0.711365   0.70948888 0.72901984 0.71595911 0.71858088\n",
      " 0.67598316 0.67377029 0.69488876 0.67990379 0.69710162 0.70816597\n",
      " 0.80505111 0.83081179 0.83781118 0.8416356  0.87858088 0.85173782\n",
      " 0.86727601 0.83502105 0.86999399 0.88923632 0.88825015 0.8853638\n",
      " 0.89455201 0.89594708 0.92064943 0.97929044 0.99360192 0.98366807\n",
      " 1.         0.98544799 0.9834997  0.09308479 0.10544799 0.09876127\n",
      " 0.07345761 0.07365003 0.05407096 0.06489477 0.0556825  0.05209862\n",
      " 0.06016837 0.06061335 0.0524113  0.04810583 0.03968731 0.04748046\n",
      " 0.05164161 0.04036079 0.04300661 0.0527721  0.05921828 0.05712568\n",
      " 0.06126278 0.06361996 0.05455201 0.06292243 0.05488876 0.05950692\n",
      " 0.05924233 0.06405292 0.08192423 0.07398677 0.07420325 0.07304871\n",
      " 0.06898376 0.06167168 0.06535177 0.06381239 0.06111846 0.0594107\n",
      " 0.05943476 0.06316296 0.05017438 0.06008419 0.044546   0.04432952\n",
      " 0.04834636 0.05919423 0.06900782 0.06819002 0.05564859 0.05979507\n",
      " 0.06230069 0.06349924 0.06389758]\n",
      "5 day output [[0.06388313]]\n",
      "6 day input [0.65289236 0.66015634 0.65849669 0.65849669 0.68192423 0.6791341\n",
      " 0.70001203 0.7039567  0.70556825 0.70131088 0.71651233 0.72293446\n",
      " 0.711365   0.70948888 0.72901984 0.71595911 0.71858088 0.67598316\n",
      " 0.67377029 0.69488876 0.67990379 0.69710162 0.70816597 0.80505111\n",
      " 0.83081179 0.83781118 0.8416356  0.87858088 0.85173782 0.86727601\n",
      " 0.83502105 0.86999399 0.88923632 0.88825015 0.8853638  0.89455201\n",
      " 0.89594708 0.92064943 0.97929044 0.99360192 0.98366807 1.\n",
      " 0.98544799 0.9834997  0.09308479 0.10544799 0.09876127 0.07345761\n",
      " 0.07365003 0.05407096 0.06489477 0.0556825  0.05209862 0.06016837\n",
      " 0.06061335 0.0524113  0.04810583 0.03968731 0.04748046 0.05164161\n",
      " 0.04036079 0.04300661 0.0527721  0.05921828 0.05712568 0.06126278\n",
      " 0.06361996 0.05455201 0.06292243 0.05488876 0.05950692 0.05924233\n",
      " 0.06405292 0.08192423 0.07398677 0.07420325 0.07304871 0.06898376\n",
      " 0.06167168 0.06535177 0.06381239 0.06111846 0.0594107  0.05943476\n",
      " 0.06316296 0.05017438 0.06008419 0.044546   0.04432952 0.04834636\n",
      " 0.05919423 0.06900782 0.06819002 0.05564859 0.05979507 0.06230069\n",
      " 0.06349924 0.06389758 0.06388313]\n",
      "6 day output [[0.0636805]]\n",
      "7 day input [0.66015634 0.65849669 0.65849669 0.68192423 0.6791341  0.70001203\n",
      " 0.7039567  0.70556825 0.70131088 0.71651233 0.72293446 0.711365\n",
      " 0.70948888 0.72901984 0.71595911 0.71858088 0.67598316 0.67377029\n",
      " 0.69488876 0.67990379 0.69710162 0.70816597 0.80505111 0.83081179\n",
      " 0.83781118 0.8416356  0.87858088 0.85173782 0.86727601 0.83502105\n",
      " 0.86999399 0.88923632 0.88825015 0.8853638  0.89455201 0.89594708\n",
      " 0.92064943 0.97929044 0.99360192 0.98366807 1.         0.98544799\n",
      " 0.9834997  0.09308479 0.10544799 0.09876127 0.07345761 0.07365003\n",
      " 0.05407096 0.06489477 0.0556825  0.05209862 0.06016837 0.06061335\n",
      " 0.0524113  0.04810583 0.03968731 0.04748046 0.05164161 0.04036079\n",
      " 0.04300661 0.0527721  0.05921828 0.05712568 0.06126278 0.06361996\n",
      " 0.05455201 0.06292243 0.05488876 0.05950692 0.05924233 0.06405292\n",
      " 0.08192423 0.07398677 0.07420325 0.07304871 0.06898376 0.06167168\n",
      " 0.06535177 0.06381239 0.06111846 0.0594107  0.05943476 0.06316296\n",
      " 0.05017438 0.06008419 0.044546   0.04432952 0.04834636 0.05919423\n",
      " 0.06900782 0.06819002 0.05564859 0.05979507 0.06230069 0.06349924\n",
      " 0.06389758 0.06388313 0.0636805 ]\n"
     ]
    },
    {
     "name": "stdout",
     "output_type": "stream",
     "text": [
      "7 day output [[0.06339872]]\n",
      "8 day input [0.65849669 0.65849669 0.68192423 0.6791341  0.70001203 0.7039567\n",
      " 0.70556825 0.70131088 0.71651233 0.72293446 0.711365   0.70948888\n",
      " 0.72901984 0.71595911 0.71858088 0.67598316 0.67377029 0.69488876\n",
      " 0.67990379 0.69710162 0.70816597 0.80505111 0.83081179 0.83781118\n",
      " 0.8416356  0.87858088 0.85173782 0.86727601 0.83502105 0.86999399\n",
      " 0.88923632 0.88825015 0.8853638  0.89455201 0.89594708 0.92064943\n",
      " 0.97929044 0.99360192 0.98366807 1.         0.98544799 0.9834997\n",
      " 0.09308479 0.10544799 0.09876127 0.07345761 0.07365003 0.05407096\n",
      " 0.06489477 0.0556825  0.05209862 0.06016837 0.06061335 0.0524113\n",
      " 0.04810583 0.03968731 0.04748046 0.05164161 0.04036079 0.04300661\n",
      " 0.0527721  0.05921828 0.05712568 0.06126278 0.06361996 0.05455201\n",
      " 0.06292243 0.05488876 0.05950692 0.05924233 0.06405292 0.08192423\n",
      " 0.07398677 0.07420325 0.07304871 0.06898376 0.06167168 0.06535177\n",
      " 0.06381239 0.06111846 0.0594107  0.05943476 0.06316296 0.05017438\n",
      " 0.06008419 0.044546   0.04432952 0.04834636 0.05919423 0.06900782\n",
      " 0.06819002 0.05564859 0.05979507 0.06230069 0.06349924 0.06389758\n",
      " 0.06388313 0.0636805  0.06339872]\n",
      "8 day output [[0.06308663]]\n",
      "9 day input [0.65849669 0.68192423 0.6791341  0.70001203 0.7039567  0.70556825\n",
      " 0.70131088 0.71651233 0.72293446 0.711365   0.70948888 0.72901984\n",
      " 0.71595911 0.71858088 0.67598316 0.67377029 0.69488876 0.67990379\n",
      " 0.69710162 0.70816597 0.80505111 0.83081179 0.83781118 0.8416356\n",
      " 0.87858088 0.85173782 0.86727601 0.83502105 0.86999399 0.88923632\n",
      " 0.88825015 0.8853638  0.89455201 0.89594708 0.92064943 0.97929044\n",
      " 0.99360192 0.98366807 1.         0.98544799 0.9834997  0.09308479\n",
      " 0.10544799 0.09876127 0.07345761 0.07365003 0.05407096 0.06489477\n",
      " 0.0556825  0.05209862 0.06016837 0.06061335 0.0524113  0.04810583\n",
      " 0.03968731 0.04748046 0.05164161 0.04036079 0.04300661 0.0527721\n",
      " 0.05921828 0.05712568 0.06126278 0.06361996 0.05455201 0.06292243\n",
      " 0.05488876 0.05950692 0.05924233 0.06405292 0.08192423 0.07398677\n",
      " 0.07420325 0.07304871 0.06898376 0.06167168 0.06535177 0.06381239\n",
      " 0.06111846 0.0594107  0.05943476 0.06316296 0.05017438 0.06008419\n",
      " 0.044546   0.04432952 0.04834636 0.05919423 0.06900782 0.06819002\n",
      " 0.05564859 0.05979507 0.06230069 0.06349924 0.06389758 0.06388313\n",
      " 0.0636805  0.06339872 0.06308663]\n",
      "9 day output [[0.06277017]]\n",
      "10 day input [0.68192423 0.6791341  0.70001203 0.7039567  0.70556825 0.70131088\n",
      " 0.71651233 0.72293446 0.711365   0.70948888 0.72901984 0.71595911\n",
      " 0.71858088 0.67598316 0.67377029 0.69488876 0.67990379 0.69710162\n",
      " 0.70816597 0.80505111 0.83081179 0.83781118 0.8416356  0.87858088\n",
      " 0.85173782 0.86727601 0.83502105 0.86999399 0.88923632 0.88825015\n",
      " 0.8853638  0.89455201 0.89594708 0.92064943 0.97929044 0.99360192\n",
      " 0.98366807 1.         0.98544799 0.9834997  0.09308479 0.10544799\n",
      " 0.09876127 0.07345761 0.07365003 0.05407096 0.06489477 0.0556825\n",
      " 0.05209862 0.06016837 0.06061335 0.0524113  0.04810583 0.03968731\n",
      " 0.04748046 0.05164161 0.04036079 0.04300661 0.0527721  0.05921828\n",
      " 0.05712568 0.06126278 0.06361996 0.05455201 0.06292243 0.05488876\n",
      " 0.05950692 0.05924233 0.06405292 0.08192423 0.07398677 0.07420325\n",
      " 0.07304871 0.06898376 0.06167168 0.06535177 0.06381239 0.06111846\n",
      " 0.0594107  0.05943476 0.06316296 0.05017438 0.06008419 0.044546\n",
      " 0.04432952 0.04834636 0.05919423 0.06900782 0.06819002 0.05564859\n",
      " 0.05979507 0.06230069 0.06349924 0.06389758 0.06388313 0.0636805\n",
      " 0.06339872 0.06308663 0.06277017]\n",
      "10 day output [[0.06246993]]\n",
      "11 day input [0.6791341  0.70001203 0.7039567  0.70556825 0.70131088 0.71651233\n",
      " 0.72293446 0.711365   0.70948888 0.72901984 0.71595911 0.71858088\n",
      " 0.67598316 0.67377029 0.69488876 0.67990379 0.69710162 0.70816597\n",
      " 0.80505111 0.83081179 0.83781118 0.8416356  0.87858088 0.85173782\n",
      " 0.86727601 0.83502105 0.86999399 0.88923632 0.88825015 0.8853638\n",
      " 0.89455201 0.89594708 0.92064943 0.97929044 0.99360192 0.98366807\n",
      " 1.         0.98544799 0.9834997  0.09308479 0.10544799 0.09876127\n",
      " 0.07345761 0.07365003 0.05407096 0.06489477 0.0556825  0.05209862\n",
      " 0.06016837 0.06061335 0.0524113  0.04810583 0.03968731 0.04748046\n",
      " 0.05164161 0.04036079 0.04300661 0.0527721  0.05921828 0.05712568\n",
      " 0.06126278 0.06361996 0.05455201 0.06292243 0.05488876 0.05950692\n",
      " 0.05924233 0.06405292 0.08192423 0.07398677 0.07420325 0.07304871\n",
      " 0.06898376 0.06167168 0.06535177 0.06381239 0.06111846 0.0594107\n",
      " 0.05943476 0.06316296 0.05017438 0.06008419 0.044546   0.04432952\n",
      " 0.04834636 0.05919423 0.06900782 0.06819002 0.05564859 0.05979507\n",
      " 0.06230069 0.06349924 0.06389758 0.06388313 0.0636805  0.06339872\n",
      " 0.06308663 0.06277017 0.06246993]\n",
      "11 day output [[0.06220581]]\n",
      "12 day input [0.70001203 0.7039567  0.70556825 0.70131088 0.71651233 0.72293446\n",
      " 0.711365   0.70948888 0.72901984 0.71595911 0.71858088 0.67598316\n",
      " 0.67377029 0.69488876 0.67990379 0.69710162 0.70816597 0.80505111\n",
      " 0.83081179 0.83781118 0.8416356  0.87858088 0.85173782 0.86727601\n",
      " 0.83502105 0.86999399 0.88923632 0.88825015 0.8853638  0.89455201\n",
      " 0.89594708 0.92064943 0.97929044 0.99360192 0.98366807 1.\n",
      " 0.98544799 0.9834997  0.09308479 0.10544799 0.09876127 0.07345761\n",
      " 0.07365003 0.05407096 0.06489477 0.0556825  0.05209862 0.06016837\n",
      " 0.06061335 0.0524113  0.04810583 0.03968731 0.04748046 0.05164161\n",
      " 0.04036079 0.04300661 0.0527721  0.05921828 0.05712568 0.06126278\n",
      " 0.06361996 0.05455201 0.06292243 0.05488876 0.05950692 0.05924233\n",
      " 0.06405292 0.08192423 0.07398677 0.07420325 0.07304871 0.06898376\n",
      " 0.06167168 0.06535177 0.06381239 0.06111846 0.0594107  0.05943476\n",
      " 0.06316296 0.05017438 0.06008419 0.044546   0.04432952 0.04834636\n",
      " 0.05919423 0.06900782 0.06819002 0.05564859 0.05979507 0.06230069\n",
      " 0.06349924 0.06389758 0.06388313 0.0636805  0.06339872 0.06308663\n",
      " 0.06277017 0.06246993 0.06220581]\n",
      "12 day output [[0.06199619]]\n",
      "13 day input [0.7039567  0.70556825 0.70131088 0.71651233 0.72293446 0.711365\n",
      " 0.70948888 0.72901984 0.71595911 0.71858088 0.67598316 0.67377029\n",
      " 0.69488876 0.67990379 0.69710162 0.70816597 0.80505111 0.83081179\n",
      " 0.83781118 0.8416356  0.87858088 0.85173782 0.86727601 0.83502105\n",
      " 0.86999399 0.88923632 0.88825015 0.8853638  0.89455201 0.89594708\n",
      " 0.92064943 0.97929044 0.99360192 0.98366807 1.         0.98544799\n",
      " 0.9834997  0.09308479 0.10544799 0.09876127 0.07345761 0.07365003\n",
      " 0.05407096 0.06489477 0.0556825  0.05209862 0.06016837 0.06061335\n",
      " 0.0524113  0.04810583 0.03968731 0.04748046 0.05164161 0.04036079\n",
      " 0.04300661 0.0527721  0.05921828 0.05712568 0.06126278 0.06361996\n",
      " 0.05455201 0.06292243 0.05488876 0.05950692 0.05924233 0.06405292\n",
      " 0.08192423 0.07398677 0.07420325 0.07304871 0.06898376 0.06167168\n",
      " 0.06535177 0.06381239 0.06111846 0.0594107  0.05943476 0.06316296\n",
      " 0.05017438 0.06008419 0.044546   0.04432952 0.04834636 0.05919423\n",
      " 0.06900782 0.06819002 0.05564859 0.05979507 0.06230069 0.06349924\n",
      " 0.06389758 0.06388313 0.0636805  0.06339872 0.06308663 0.06277017\n",
      " 0.06246993 0.06220581 0.06199619]\n",
      "13 day output [[0.06185577]]\n",
      "14 day input [0.70556825 0.70131088 0.71651233 0.72293446 0.711365   0.70948888\n",
      " 0.72901984 0.71595911 0.71858088 0.67598316 0.67377029 0.69488876\n",
      " 0.67990379 0.69710162 0.70816597 0.80505111 0.83081179 0.83781118\n",
      " 0.8416356  0.87858088 0.85173782 0.86727601 0.83502105 0.86999399\n",
      " 0.88923632 0.88825015 0.8853638  0.89455201 0.89594708 0.92064943\n",
      " 0.97929044 0.99360192 0.98366807 1.         0.98544799 0.9834997\n",
      " 0.09308479 0.10544799 0.09876127 0.07345761 0.07365003 0.05407096\n",
      " 0.06489477 0.0556825  0.05209862 0.06016837 0.06061335 0.0524113\n",
      " 0.04810583 0.03968731 0.04748046 0.05164161 0.04036079 0.04300661\n",
      " 0.0527721  0.05921828 0.05712568 0.06126278 0.06361996 0.05455201\n",
      " 0.06292243 0.05488876 0.05950692 0.05924233 0.06405292 0.08192423\n",
      " 0.07398677 0.07420325 0.07304871 0.06898376 0.06167168 0.06535177\n",
      " 0.06381239 0.06111846 0.0594107  0.05943476 0.06316296 0.05017438\n",
      " 0.06008419 0.044546   0.04432952 0.04834636 0.05919423 0.06900782\n",
      " 0.06819002 0.05564859 0.05979507 0.06230069 0.06349924 0.06389758\n",
      " 0.06388313 0.0636805  0.06339872 0.06308663 0.06277017 0.06246993\n",
      " 0.06220581 0.06199619 0.06185577]\n",
      "14 day output [[0.06179391]]\n",
      "15 day input [0.70131088 0.71651233 0.72293446 0.711365   0.70948888 0.72901984\n",
      " 0.71595911 0.71858088 0.67598316 0.67377029 0.69488876 0.67990379\n",
      " 0.69710162 0.70816597 0.80505111 0.83081179 0.83781118 0.8416356\n",
      " 0.87858088 0.85173782 0.86727601 0.83502105 0.86999399 0.88923632\n",
      " 0.88825015 0.8853638  0.89455201 0.89594708 0.92064943 0.97929044\n",
      " 0.99360192 0.98366807 1.         0.98544799 0.9834997  0.09308479\n",
      " 0.10544799 0.09876127 0.07345761 0.07365003 0.05407096 0.06489477\n",
      " 0.0556825  0.05209862 0.06016837 0.06061335 0.0524113  0.04810583\n",
      " 0.03968731 0.04748046 0.05164161 0.04036079 0.04300661 0.0527721\n",
      " 0.05921828 0.05712568 0.06126278 0.06361996 0.05455201 0.06292243\n",
      " 0.05488876 0.05950692 0.05924233 0.06405292 0.08192423 0.07398677\n",
      " 0.07420325 0.07304871 0.06898376 0.06167168 0.06535177 0.06381239\n",
      " 0.06111846 0.0594107  0.05943476 0.06316296 0.05017438 0.06008419\n",
      " 0.044546   0.04432952 0.04834636 0.05919423 0.06900782 0.06819002\n",
      " 0.05564859 0.05979507 0.06230069 0.06349924 0.06389758 0.06388313\n",
      " 0.0636805  0.06339872 0.06308663 0.06277017 0.06246993 0.06220581\n",
      " 0.06199619 0.06185577 0.06179391]\n",
      "15 day output [[0.06181423]]\n",
      "16 day input [0.71651233 0.72293446 0.711365   0.70948888 0.72901984 0.71595911\n",
      " 0.71858088 0.67598316 0.67377029 0.69488876 0.67990379 0.69710162\n",
      " 0.70816597 0.80505111 0.83081179 0.83781118 0.8416356  0.87858088\n",
      " 0.85173782 0.86727601 0.83502105 0.86999399 0.88923632 0.88825015\n",
      " 0.8853638  0.89455201 0.89594708 0.92064943 0.97929044 0.99360192\n",
      " 0.98366807 1.         0.98544799 0.9834997  0.09308479 0.10544799\n",
      " 0.09876127 0.07345761 0.07365003 0.05407096 0.06489477 0.0556825\n",
      " 0.05209862 0.06016837 0.06061335 0.0524113  0.04810583 0.03968731\n",
      " 0.04748046 0.05164161 0.04036079 0.04300661 0.0527721  0.05921828\n",
      " 0.05712568 0.06126278 0.06361996 0.05455201 0.06292243 0.05488876\n",
      " 0.05950692 0.05924233 0.06405292 0.08192423 0.07398677 0.07420325\n",
      " 0.07304871 0.06898376 0.06167168 0.06535177 0.06381239 0.06111846\n",
      " 0.0594107  0.05943476 0.06316296 0.05017438 0.06008419 0.044546\n",
      " 0.04432952 0.04834636 0.05919423 0.06900782 0.06819002 0.05564859\n",
      " 0.05979507 0.06230069 0.06349924 0.06389758 0.06388313 0.0636805\n",
      " 0.06339872 0.06308663 0.06277017 0.06246993 0.06220581 0.06199619\n",
      " 0.06185577 0.06179391 0.06181423]\n",
      "16 day output [[0.06191494]]\n",
      "17 day input [0.72293446 0.711365   0.70948888 0.72901984 0.71595911 0.71858088\n",
      " 0.67598316 0.67377029 0.69488876 0.67990379 0.69710162 0.70816597\n",
      " 0.80505111 0.83081179 0.83781118 0.8416356  0.87858088 0.85173782\n",
      " 0.86727601 0.83502105 0.86999399 0.88923632 0.88825015 0.8853638\n",
      " 0.89455201 0.89594708 0.92064943 0.97929044 0.99360192 0.98366807\n",
      " 1.         0.98544799 0.9834997  0.09308479 0.10544799 0.09876127\n",
      " 0.07345761 0.07365003 0.05407096 0.06489477 0.0556825  0.05209862\n",
      " 0.06016837 0.06061335 0.0524113  0.04810583 0.03968731 0.04748046\n",
      " 0.05164161 0.04036079 0.04300661 0.0527721  0.05921828 0.05712568\n",
      " 0.06126278 0.06361996 0.05455201 0.06292243 0.05488876 0.05950692\n",
      " 0.05924233 0.06405292 0.08192423 0.07398677 0.07420325 0.07304871\n",
      " 0.06898376 0.06167168 0.06535177 0.06381239 0.06111846 0.0594107\n",
      " 0.05943476 0.06316296 0.05017438 0.06008419 0.044546   0.04432952\n",
      " 0.04834636 0.05919423 0.06900782 0.06819002 0.05564859 0.05979507\n",
      " 0.06230069 0.06349924 0.06389758 0.06388313 0.0636805  0.06339872\n",
      " 0.06308663 0.06277017 0.06246993 0.06220581 0.06199619 0.06185577\n",
      " 0.06179391 0.06181423 0.06191494]\n"
     ]
    },
    {
     "name": "stdout",
     "output_type": "stream",
     "text": [
      "17 day output [[0.0620898]]\n",
      "18 day input [0.711365   0.70948888 0.72901984 0.71595911 0.71858088 0.67598316\n",
      " 0.67377029 0.69488876 0.67990379 0.69710162 0.70816597 0.80505111\n",
      " 0.83081179 0.83781118 0.8416356  0.87858088 0.85173782 0.86727601\n",
      " 0.83502105 0.86999399 0.88923632 0.88825015 0.8853638  0.89455201\n",
      " 0.89594708 0.92064943 0.97929044 0.99360192 0.98366807 1.\n",
      " 0.98544799 0.9834997  0.09308479 0.10544799 0.09876127 0.07345761\n",
      " 0.07365003 0.05407096 0.06489477 0.0556825  0.05209862 0.06016837\n",
      " 0.06061335 0.0524113  0.04810583 0.03968731 0.04748046 0.05164161\n",
      " 0.04036079 0.04300661 0.0527721  0.05921828 0.05712568 0.06126278\n",
      " 0.06361996 0.05455201 0.06292243 0.05488876 0.05950692 0.05924233\n",
      " 0.06405292 0.08192423 0.07398677 0.07420325 0.07304871 0.06898376\n",
      " 0.06167168 0.06535177 0.06381239 0.06111846 0.0594107  0.05943476\n",
      " 0.06316296 0.05017438 0.06008419 0.044546   0.04432952 0.04834636\n",
      " 0.05919423 0.06900782 0.06819002 0.05564859 0.05979507 0.06230069\n",
      " 0.06349924 0.06389758 0.06388313 0.0636805  0.06339872 0.06308663\n",
      " 0.06277017 0.06246993 0.06220581 0.06199619 0.06185577 0.06179391\n",
      " 0.06181423 0.06191494 0.0620898 ]\n",
      "18 day output [[0.06232924]]\n",
      "19 day input [0.70948888 0.72901984 0.71595911 0.71858088 0.67598316 0.67377029\n",
      " 0.69488876 0.67990379 0.69710162 0.70816597 0.80505111 0.83081179\n",
      " 0.83781118 0.8416356  0.87858088 0.85173782 0.86727601 0.83502105\n",
      " 0.86999399 0.88923632 0.88825015 0.8853638  0.89455201 0.89594708\n",
      " 0.92064943 0.97929044 0.99360192 0.98366807 1.         0.98544799\n",
      " 0.9834997  0.09308479 0.10544799 0.09876127 0.07345761 0.07365003\n",
      " 0.05407096 0.06489477 0.0556825  0.05209862 0.06016837 0.06061335\n",
      " 0.0524113  0.04810583 0.03968731 0.04748046 0.05164161 0.04036079\n",
      " 0.04300661 0.0527721  0.05921828 0.05712568 0.06126278 0.06361996\n",
      " 0.05455201 0.06292243 0.05488876 0.05950692 0.05924233 0.06405292\n",
      " 0.08192423 0.07398677 0.07420325 0.07304871 0.06898376 0.06167168\n",
      " 0.06535177 0.06381239 0.06111846 0.0594107  0.05943476 0.06316296\n",
      " 0.05017438 0.06008419 0.044546   0.04432952 0.04834636 0.05919423\n",
      " 0.06900782 0.06819002 0.05564859 0.05979507 0.06230069 0.06349924\n",
      " 0.06389758 0.06388313 0.0636805  0.06339872 0.06308663 0.06277017\n",
      " 0.06246993 0.06220581 0.06199619 0.06185577 0.06179391 0.06181423\n",
      " 0.06191494 0.0620898  0.06232924]\n",
      "19 day output [[0.06262153]]\n",
      "20 day input [0.72901984 0.71595911 0.71858088 0.67598316 0.67377029 0.69488876\n",
      " 0.67990379 0.69710162 0.70816597 0.80505111 0.83081179 0.83781118\n",
      " 0.8416356  0.87858088 0.85173782 0.86727601 0.83502105 0.86999399\n",
      " 0.88923632 0.88825015 0.8853638  0.89455201 0.89594708 0.92064943\n",
      " 0.97929044 0.99360192 0.98366807 1.         0.98544799 0.9834997\n",
      " 0.09308479 0.10544799 0.09876127 0.07345761 0.07365003 0.05407096\n",
      " 0.06489477 0.0556825  0.05209862 0.06016837 0.06061335 0.0524113\n",
      " 0.04810583 0.03968731 0.04748046 0.05164161 0.04036079 0.04300661\n",
      " 0.0527721  0.05921828 0.05712568 0.06126278 0.06361996 0.05455201\n",
      " 0.06292243 0.05488876 0.05950692 0.05924233 0.06405292 0.08192423\n",
      " 0.07398677 0.07420325 0.07304871 0.06898376 0.06167168 0.06535177\n",
      " 0.06381239 0.06111846 0.0594107  0.05943476 0.06316296 0.05017438\n",
      " 0.06008419 0.044546   0.04432952 0.04834636 0.05919423 0.06900782\n",
      " 0.06819002 0.05564859 0.05979507 0.06230069 0.06349924 0.06389758\n",
      " 0.06388313 0.0636805  0.06339872 0.06308663 0.06277017 0.06246993\n",
      " 0.06220581 0.06199619 0.06185577 0.06179391 0.06181423 0.06191494\n",
      " 0.0620898  0.06232924 0.06262153]\n",
      "20 day output [[0.06295396]]\n",
      "21 day input [0.71595911 0.71858088 0.67598316 0.67377029 0.69488876 0.67990379\n",
      " 0.69710162 0.70816597 0.80505111 0.83081179 0.83781118 0.8416356\n",
      " 0.87858088 0.85173782 0.86727601 0.83502105 0.86999399 0.88923632\n",
      " 0.88825015 0.8853638  0.89455201 0.89594708 0.92064943 0.97929044\n",
      " 0.99360192 0.98366807 1.         0.98544799 0.9834997  0.09308479\n",
      " 0.10544799 0.09876127 0.07345761 0.07365003 0.05407096 0.06489477\n",
      " 0.0556825  0.05209862 0.06016837 0.06061335 0.0524113  0.04810583\n",
      " 0.03968731 0.04748046 0.05164161 0.04036079 0.04300661 0.0527721\n",
      " 0.05921828 0.05712568 0.06126278 0.06361996 0.05455201 0.06292243\n",
      " 0.05488876 0.05950692 0.05924233 0.06405292 0.08192423 0.07398677\n",
      " 0.07420325 0.07304871 0.06898376 0.06167168 0.06535177 0.06381239\n",
      " 0.06111846 0.0594107  0.05943476 0.06316296 0.05017438 0.06008419\n",
      " 0.044546   0.04432952 0.04834636 0.05919423 0.06900782 0.06819002\n",
      " 0.05564859 0.05979507 0.06230069 0.06349924 0.06389758 0.06388313\n",
      " 0.0636805  0.06339872 0.06308663 0.06277017 0.06246993 0.06220581\n",
      " 0.06199619 0.06185577 0.06179391 0.06181423 0.06191494 0.0620898\n",
      " 0.06232924 0.06262153 0.06295396]\n",
      "21 day output [[0.0633138]]\n",
      "22 day input [0.71858088 0.67598316 0.67377029 0.69488876 0.67990379 0.69710162\n",
      " 0.70816597 0.80505111 0.83081179 0.83781118 0.8416356  0.87858088\n",
      " 0.85173782 0.86727601 0.83502105 0.86999399 0.88923632 0.88825015\n",
      " 0.8853638  0.89455201 0.89594708 0.92064943 0.97929044 0.99360192\n",
      " 0.98366807 1.         0.98544799 0.9834997  0.09308479 0.10544799\n",
      " 0.09876127 0.07345761 0.07365003 0.05407096 0.06489477 0.0556825\n",
      " 0.05209862 0.06016837 0.06061335 0.0524113  0.04810583 0.03968731\n",
      " 0.04748046 0.05164161 0.04036079 0.04300661 0.0527721  0.05921828\n",
      " 0.05712568 0.06126278 0.06361996 0.05455201 0.06292243 0.05488876\n",
      " 0.05950692 0.05924233 0.06405292 0.08192423 0.07398677 0.07420325\n",
      " 0.07304871 0.06898376 0.06167168 0.06535177 0.06381239 0.06111846\n",
      " 0.0594107  0.05943476 0.06316296 0.05017438 0.06008419 0.044546\n",
      " 0.04432952 0.04834636 0.05919423 0.06900782 0.06819002 0.05564859\n",
      " 0.05979507 0.06230069 0.06349924 0.06389758 0.06388313 0.0636805\n",
      " 0.06339872 0.06308663 0.06277017 0.06246993 0.06220581 0.06199619\n",
      " 0.06185577 0.06179391 0.06181423 0.06191494 0.0620898  0.06232924\n",
      " 0.06262153 0.06295396 0.0633138 ]\n",
      "22 day output [[0.06368896]]\n",
      "23 day input [0.67598316 0.67377029 0.69488876 0.67990379 0.69710162 0.70816597\n",
      " 0.80505111 0.83081179 0.83781118 0.8416356  0.87858088 0.85173782\n",
      " 0.86727601 0.83502105 0.86999399 0.88923632 0.88825015 0.8853638\n",
      " 0.89455201 0.89594708 0.92064943 0.97929044 0.99360192 0.98366807\n",
      " 1.         0.98544799 0.9834997  0.09308479 0.10544799 0.09876127\n",
      " 0.07345761 0.07365003 0.05407096 0.06489477 0.0556825  0.05209862\n",
      " 0.06016837 0.06061335 0.0524113  0.04810583 0.03968731 0.04748046\n",
      " 0.05164161 0.04036079 0.04300661 0.0527721  0.05921828 0.05712568\n",
      " 0.06126278 0.06361996 0.05455201 0.06292243 0.05488876 0.05950692\n",
      " 0.05924233 0.06405292 0.08192423 0.07398677 0.07420325 0.07304871\n",
      " 0.06898376 0.06167168 0.06535177 0.06381239 0.06111846 0.0594107\n",
      " 0.05943476 0.06316296 0.05017438 0.06008419 0.044546   0.04432952\n",
      " 0.04834636 0.05919423 0.06900782 0.06819002 0.05564859 0.05979507\n",
      " 0.06230069 0.06349924 0.06389758 0.06388313 0.0636805  0.06339872\n",
      " 0.06308663 0.06277017 0.06246993 0.06220581 0.06199619 0.06185577\n",
      " 0.06179391 0.06181423 0.06191494 0.0620898  0.06232924 0.06262153\n",
      " 0.06295396 0.0633138  0.06368896]\n",
      "23 day output [[0.0640688]]\n",
      "24 day input [0.67377029 0.69488876 0.67990379 0.69710162 0.70816597 0.80505111\n",
      " 0.83081179 0.83781118 0.8416356  0.87858088 0.85173782 0.86727601\n",
      " 0.83502105 0.86999399 0.88923632 0.88825015 0.8853638  0.89455201\n",
      " 0.89594708 0.92064943 0.97929044 0.99360192 0.98366807 1.\n",
      " 0.98544799 0.9834997  0.09308479 0.10544799 0.09876127 0.07345761\n",
      " 0.07365003 0.05407096 0.06489477 0.0556825  0.05209862 0.06016837\n",
      " 0.06061335 0.0524113  0.04810583 0.03968731 0.04748046 0.05164161\n",
      " 0.04036079 0.04300661 0.0527721  0.05921828 0.05712568 0.06126278\n",
      " 0.06361996 0.05455201 0.06292243 0.05488876 0.05950692 0.05924233\n",
      " 0.06405292 0.08192423 0.07398677 0.07420325 0.07304871 0.06898376\n",
      " 0.06167168 0.06535177 0.06381239 0.06111846 0.0594107  0.05943476\n",
      " 0.06316296 0.05017438 0.06008419 0.044546   0.04432952 0.04834636\n",
      " 0.05919423 0.06900782 0.06819002 0.05564859 0.05979507 0.06230069\n",
      " 0.06349924 0.06389758 0.06388313 0.0636805  0.06339872 0.06308663\n",
      " 0.06277017 0.06246993 0.06220581 0.06199619 0.06185577 0.06179391\n",
      " 0.06181423 0.06191494 0.0620898  0.06232924 0.06262153 0.06295396\n",
      " 0.0633138  0.06368896 0.0640688 ]\n",
      "24 day output [[0.06444438]]\n",
      "25 day input [0.69488876 0.67990379 0.69710162 0.70816597 0.80505111 0.83081179\n",
      " 0.83781118 0.8416356  0.87858088 0.85173782 0.86727601 0.83502105\n",
      " 0.86999399 0.88923632 0.88825015 0.8853638  0.89455201 0.89594708\n",
      " 0.92064943 0.97929044 0.99360192 0.98366807 1.         0.98544799\n",
      " 0.9834997  0.09308479 0.10544799 0.09876127 0.07345761 0.07365003\n",
      " 0.05407096 0.06489477 0.0556825  0.05209862 0.06016837 0.06061335\n",
      " 0.0524113  0.04810583 0.03968731 0.04748046 0.05164161 0.04036079\n",
      " 0.04300661 0.0527721  0.05921828 0.05712568 0.06126278 0.06361996\n",
      " 0.05455201 0.06292243 0.05488876 0.05950692 0.05924233 0.06405292\n",
      " 0.08192423 0.07398677 0.07420325 0.07304871 0.06898376 0.06167168\n",
      " 0.06535177 0.06381239 0.06111846 0.0594107  0.05943476 0.06316296\n",
      " 0.05017438 0.06008419 0.044546   0.04432952 0.04834636 0.05919423\n",
      " 0.06900782 0.06819002 0.05564859 0.05979507 0.06230069 0.06349924\n",
      " 0.06389758 0.06388313 0.0636805  0.06339872 0.06308663 0.06277017\n",
      " 0.06246993 0.06220581 0.06199619 0.06185577 0.06179391 0.06181423\n",
      " 0.06191494 0.0620898  0.06232924 0.06262153 0.06295396 0.0633138\n",
      " 0.06368896 0.0640688  0.06444438]\n",
      "25 day output [[0.06480885]]\n",
      "26 day input [0.67990379 0.69710162 0.70816597 0.80505111 0.83081179 0.83781118\n",
      " 0.8416356  0.87858088 0.85173782 0.86727601 0.83502105 0.86999399\n",
      " 0.88923632 0.88825015 0.8853638  0.89455201 0.89594708 0.92064943\n",
      " 0.97929044 0.99360192 0.98366807 1.         0.98544799 0.9834997\n",
      " 0.09308479 0.10544799 0.09876127 0.07345761 0.07365003 0.05407096\n",
      " 0.06489477 0.0556825  0.05209862 0.06016837 0.06061335 0.0524113\n",
      " 0.04810583 0.03968731 0.04748046 0.05164161 0.04036079 0.04300661\n",
      " 0.0527721  0.05921828 0.05712568 0.06126278 0.06361996 0.05455201\n",
      " 0.06292243 0.05488876 0.05950692 0.05924233 0.06405292 0.08192423\n",
      " 0.07398677 0.07420325 0.07304871 0.06898376 0.06167168 0.06535177\n",
      " 0.06381239 0.06111846 0.0594107  0.05943476 0.06316296 0.05017438\n",
      " 0.06008419 0.044546   0.04432952 0.04834636 0.05919423 0.06900782\n",
      " 0.06819002 0.05564859 0.05979507 0.06230069 0.06349924 0.06389758\n",
      " 0.06388313 0.0636805  0.06339872 0.06308663 0.06277017 0.06246993\n",
      " 0.06220581 0.06199619 0.06185577 0.06179391 0.06181423 0.06191494\n",
      " 0.0620898  0.06232924 0.06262153 0.06295396 0.0633138  0.06368896\n",
      " 0.0640688  0.06444438 0.06480885]\n"
     ]
    },
    {
     "name": "stdout",
     "output_type": "stream",
     "text": [
      "26 day output [[0.06515741]]\n",
      "27 day input [0.69710162 0.70816597 0.80505111 0.83081179 0.83781118 0.8416356\n",
      " 0.87858088 0.85173782 0.86727601 0.83502105 0.86999399 0.88923632\n",
      " 0.88825015 0.8853638  0.89455201 0.89594708 0.92064943 0.97929044\n",
      " 0.99360192 0.98366807 1.         0.98544799 0.9834997  0.09308479\n",
      " 0.10544799 0.09876127 0.07345761 0.07365003 0.05407096 0.06489477\n",
      " 0.0556825  0.05209862 0.06016837 0.06061335 0.0524113  0.04810583\n",
      " 0.03968731 0.04748046 0.05164161 0.04036079 0.04300661 0.0527721\n",
      " 0.05921828 0.05712568 0.06126278 0.06361996 0.05455201 0.06292243\n",
      " 0.05488876 0.05950692 0.05924233 0.06405292 0.08192423 0.07398677\n",
      " 0.07420325 0.07304871 0.06898376 0.06167168 0.06535177 0.06381239\n",
      " 0.06111846 0.0594107  0.05943476 0.06316296 0.05017438 0.06008419\n",
      " 0.044546   0.04432952 0.04834636 0.05919423 0.06900782 0.06819002\n",
      " 0.05564859 0.05979507 0.06230069 0.06349924 0.06389758 0.06388313\n",
      " 0.0636805  0.06339872 0.06308663 0.06277017 0.06246993 0.06220581\n",
      " 0.06199619 0.06185577 0.06179391 0.06181423 0.06191494 0.0620898\n",
      " 0.06232924 0.06262153 0.06295396 0.0633138  0.06368896 0.0640688\n",
      " 0.06444438 0.06480885 0.06515741]\n",
      "27 day output [[0.06548728]]\n",
      "28 day input [0.70816597 0.80505111 0.83081179 0.83781118 0.8416356  0.87858088\n",
      " 0.85173782 0.86727601 0.83502105 0.86999399 0.88923632 0.88825015\n",
      " 0.8853638  0.89455201 0.89594708 0.92064943 0.97929044 0.99360192\n",
      " 0.98366807 1.         0.98544799 0.9834997  0.09308479 0.10544799\n",
      " 0.09876127 0.07345761 0.07365003 0.05407096 0.06489477 0.0556825\n",
      " 0.05209862 0.06016837 0.06061335 0.0524113  0.04810583 0.03968731\n",
      " 0.04748046 0.05164161 0.04036079 0.04300661 0.0527721  0.05921828\n",
      " 0.05712568 0.06126278 0.06361996 0.05455201 0.06292243 0.05488876\n",
      " 0.05950692 0.05924233 0.06405292 0.08192423 0.07398677 0.07420325\n",
      " 0.07304871 0.06898376 0.06167168 0.06535177 0.06381239 0.06111846\n",
      " 0.0594107  0.05943476 0.06316296 0.05017438 0.06008419 0.044546\n",
      " 0.04432952 0.04834636 0.05919423 0.06900782 0.06819002 0.05564859\n",
      " 0.05979507 0.06230069 0.06349924 0.06389758 0.06388313 0.0636805\n",
      " 0.06339872 0.06308663 0.06277017 0.06246993 0.06220581 0.06199619\n",
      " 0.06185577 0.06179391 0.06181423 0.06191494 0.0620898  0.06232924\n",
      " 0.06262153 0.06295396 0.0633138  0.06368896 0.0640688  0.06444438\n",
      " 0.06480885 0.06515741 0.06548728]\n",
      "28 day output [[0.06579758]]\n",
      "29 day input [0.80505111 0.83081179 0.83781118 0.8416356  0.87858088 0.85173782\n",
      " 0.86727601 0.83502105 0.86999399 0.88923632 0.88825015 0.8853638\n",
      " 0.89455201 0.89594708 0.92064943 0.97929044 0.99360192 0.98366807\n",
      " 1.         0.98544799 0.9834997  0.09308479 0.10544799 0.09876127\n",
      " 0.07345761 0.07365003 0.05407096 0.06489477 0.0556825  0.05209862\n",
      " 0.06016837 0.06061335 0.0524113  0.04810583 0.03968731 0.04748046\n",
      " 0.05164161 0.04036079 0.04300661 0.0527721  0.05921828 0.05712568\n",
      " 0.06126278 0.06361996 0.05455201 0.06292243 0.05488876 0.05950692\n",
      " 0.05924233 0.06405292 0.08192423 0.07398677 0.07420325 0.07304871\n",
      " 0.06898376 0.06167168 0.06535177 0.06381239 0.06111846 0.0594107\n",
      " 0.05943476 0.06316296 0.05017438 0.06008419 0.044546   0.04432952\n",
      " 0.04834636 0.05919423 0.06900782 0.06819002 0.05564859 0.05979507\n",
      " 0.06230069 0.06349924 0.06389758 0.06388313 0.0636805  0.06339872\n",
      " 0.06308663 0.06277017 0.06246993 0.06220581 0.06199619 0.06185577\n",
      " 0.06179391 0.06181423 0.06191494 0.0620898  0.06232924 0.06262153\n",
      " 0.06295396 0.0633138  0.06368896 0.0640688  0.06444438 0.06480885\n",
      " 0.06515741 0.06548728 0.06579758]\n",
      "29 day output [[0.06608899]]\n",
      "[[0.05564859136939049], [0.0597950704395771], [0.06230069324374199], [0.06349924206733704], [0.06389757990837097], [0.06388312578201294], [0.063680499792099], [0.06339871883392334], [0.0630866289138794], [0.06277017295360565], [0.06246992573142052], [0.06220581382513046], [0.06199618801474571], [0.06185577064752579], [0.06179391220211983], [0.06181422621011734], [0.06191493943333626], [0.06208980083465576], [0.062329236418008804], [0.06262153387069702], [0.06295396387577057], [0.0633137971162796], [0.0636889636516571], [0.06406880170106888], [0.06444437801837921], [0.06480885297060013], [0.06515741348266602], [0.06548728048801422], [0.0657975822687149], [0.06608898937702179]]\n"
     ]
    }
   ],
   "source": [
    "from numpy import array\n",
    "lst_output=[]\n",
    "n_steps=99\n",
    "i=0\n",
    "while(i<30):\n",
    "    \n",
    "    if(len(temp_input)>99):\n",
    "        #print(temp_input)\n",
    "        x_input=np.array(temp_input[1:])\n",
    "        print(\"{} day input {}\".format(i,x_input))\n",
    "        x_input=x_input.reshape(1,-1)\n",
    "        x_input = x_input.reshape((1, n_steps, 1))\n",
    "        #print(x_input)\n",
    "        yhat = model.predict(x_input, verbose=0)\n",
    "        print(\"{} day output {}\".format(i,yhat))\n",
    "        temp_input.extend(yhat[0].tolist())\n",
    "        temp_input=temp_input[1:]\n",
    "        #print(temp_input)\n",
    "        lst_output.extend(yhat.tolist())\n",
    "        i=i+1\n",
    "    else:\n",
    "        x_input = x_input.reshape((1, n_steps,1))\n",
    "        yhat = model.predict(x_input, verbose=0)\n",
    "        print(yhat[0])\n",
    "        temp_input.extend(yhat[0].tolist())\n",
    "        print(len(temp_input))\n",
    "        lst_output.extend(yhat.tolist())\n",
    "        i=i+1\n",
    "    \n",
    "\n",
    "print(lst_output)"
   ]
  },
  {
   "cell_type": "code",
   "execution_count": 38,
   "metadata": {},
   "outputs": [],
   "source": [
    "day_new=np.arange(1,101)\n",
    "day_pred=np.arange(101,131)"
   ]
  },
  {
   "cell_type": "code",
   "execution_count": 39,
   "metadata": {},
   "outputs": [
    {
     "data": {
      "text/plain": [
       "1257"
      ]
     },
     "execution_count": 39,
     "metadata": {},
     "output_type": "execute_result"
    }
   ],
   "source": [
    "len(df1)"
   ]
  },
  {
   "cell_type": "code",
   "execution_count": 43,
   "metadata": {},
   "outputs": [
    {
     "data": {
      "text/plain": [
       "[<matplotlib.lines.Line2D at 0x207e4235248>]"
      ]
     },
     "execution_count": 43,
     "metadata": {},
     "output_type": "execute_result"
    },
    {
     "data": {
      "image/png": "[encoded data removed]",
      "text/plain": [
       "<Figure size 432x288 with 1 Axes>"
      ]
     },
     "metadata": {
      "needs_background": "light"
     },
     "output_type": "display_data"
    }
   ],
   "source": [
    "plt.plot(day_new,scaler.inverse_transform(df1[1157:]))\n",
    "plt.plot(day_pred,scaler.inverse_transform(lst_output))"
   ]
  },
  {
   "cell_type": "code",
   "execution_count": 44,
   "metadata": {},
   "outputs": [
    {
     "data": {
      "text/plain": [
       "[<matplotlib.lines.Line2D at 0x207e4300148>]"
      ]
     },
     "execution_count": 44,
     "metadata": {},
     "output_type": "execute_result"
    },
    {
     "data": {
      "image/png": "[encoded data removed]",
      "text/plain": [
       "<Figure size 432x288 with 1 Axes>"
      ]
     },
     "metadata": {
      "needs_background": "light"
     },
     "output_type": "display_data"
    }
   ],
   "source": [
    "df3=df1.tolist()\n",
    "df3.extend(lst_output)\n",
    "plt.plot(df3[1200:])"
   ]
  },
  {
   "cell_type": "code",
   "execution_count": 55,
   "metadata": {},
   "outputs": [],
   "source": [
    "df3=scaler.inverse_transform(df3).tolist()"
   ]
  },
  {
   "cell_type": "code",
   "execution_count": 56,
   "metadata": {},
   "outputs": [
    {
     "data": {
      "text/plain": [
       "[<matplotlib.lines.Line2D at 0x207e0decfc8>]"
      ]
     },
     "execution_count": 56,
     "metadata": {},
     "output_type": "execute_result"
    },
    {
     "data": {
      "image/png": "[encoded data removed]",
      "text/plain": [
       "<Figure size 432x288 with 1 Axes>"
      ]
     },
     "metadata": {
      "needs_background": "light"
     },
     "output_type": "display_data"
    }
   ],
   "source": [
    "plt.plot(df3)"
   ]
  },
  {
   "cell_type": "code",
   "execution_count": null,
   "metadata": {},
   "outputs": [],
   "source": []
  }
 ],
 "metadata": {
  "kernelspec": {
   "display_name": "Python 3",
   "language": "python",
   "name": "python3"
  },
  "language_info": {
   "codemirror_mode": {
    "name": "ipython",
    "version": 3
   },
   "file_extension": ".py",
   "mimetype": "text/x-python",
   "name": "python",
   "nbconvert_exporter": "python",
   "pygments_lexer": "ipython3",
   "version": "3.7.6"
  }
 },
 "nbformat": 4,
 "nbformat_minor": 4
}
