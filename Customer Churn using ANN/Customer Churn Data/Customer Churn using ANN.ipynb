{
 "cells": [
  {
   "cell_type": "code",
   "execution_count": 1,
   "metadata": {},
   "outputs": [],
   "source": [
    "import pandas as pd\n",
    "import numpy as np\n",
    "import seaborn as sns\n",
    "from matplotlib import pyplot as plt"
   ]
  },
  {
   "cell_type": "code",
   "execution_count": 2,
   "metadata": {},
   "outputs": [
    {
     "data": {
      "text/html": [
       "<div>\n",
       "<style scoped>\n",
       "    .dataframe tbody tr th:only-of-type {\n",
       "        vertical-align: middle;\n",
       "    }\n",
       "\n",
       "    .dataframe tbody tr th {\n",
       "        vertical-align: top;\n",
       "    }\n",
       "\n",
       "    .dataframe thead th {\n",
       "        text-align: right;\n",
       "    }\n",
       "</style>\n",
       "<table border=\"1\" class=\"dataframe\">\n",
       "  <thead>\n",
       "    <tr style=\"text-align: right;\">\n",
       "      <th></th>\n",
       "      <th>RowNumber</th>\n",
       "      <th>CustomerId</th>\n",
       "      <th>Surname</th>\n",
       "      <th>CreditScore</th>\n",
       "      <th>Geography</th>\n",
       "      <th>Gender</th>\n",
       "      <th>Age</th>\n",
       "      <th>Tenure</th>\n",
       "      <th>Balance</th>\n",
       "      <th>NumOfProducts</th>\n",
       "      <th>HasCrCard</th>\n",
       "      <th>IsActiveMember</th>\n",
       "      <th>EstimatedSalary</th>\n",
       "      <th>Exited</th>\n",
       "    </tr>\n",
       "  </thead>\n",
       "  <tbody>\n",
       "    <tr>\n",
       "      <th>0</th>\n",
       "      <td>1</td>\n",
       "      <td>15634602</td>\n",
       "      <td>Hargrave</td>\n",
       "      <td>619</td>\n",
       "      <td>France</td>\n",
       "      <td>Female</td>\n",
       "      <td>42</td>\n",
       "      <td>2</td>\n",
       "      <td>0.00</td>\n",
       "      <td>1</td>\n",
       "      <td>1</td>\n",
       "      <td>1</td>\n",
       "      <td>101348.88</td>\n",
       "      <td>1</td>\n",
       "    </tr>\n",
       "    <tr>\n",
       "      <th>1</th>\n",
       "      <td>2</td>\n",
       "      <td>15647311</td>\n",
       "      <td>Hill</td>\n",
       "      <td>608</td>\n",
       "      <td>Spain</td>\n",
       "      <td>Female</td>\n",
       "      <td>41</td>\n",
       "      <td>1</td>\n",
       "      <td>83807.86</td>\n",
       "      <td>1</td>\n",
       "      <td>0</td>\n",
       "      <td>1</td>\n",
       "      <td>112542.58</td>\n",
       "      <td>0</td>\n",
       "    </tr>\n",
       "    <tr>\n",
       "      <th>2</th>\n",
       "      <td>3</td>\n",
       "      <td>15619304</td>\n",
       "      <td>Onio</td>\n",
       "      <td>502</td>\n",
       "      <td>France</td>\n",
       "      <td>Female</td>\n",
       "      <td>42</td>\n",
       "      <td>8</td>\n",
       "      <td>159660.80</td>\n",
       "      <td>3</td>\n",
       "      <td>1</td>\n",
       "      <td>0</td>\n",
       "      <td>113931.57</td>\n",
       "      <td>1</td>\n",
       "    </tr>\n",
       "    <tr>\n",
       "      <th>3</th>\n",
       "      <td>4</td>\n",
       "      <td>15701354</td>\n",
       "      <td>Boni</td>\n",
       "      <td>699</td>\n",
       "      <td>France</td>\n",
       "      <td>Female</td>\n",
       "      <td>39</td>\n",
       "      <td>1</td>\n",
       "      <td>0.00</td>\n",
       "      <td>2</td>\n",
       "      <td>0</td>\n",
       "      <td>0</td>\n",
       "      <td>93826.63</td>\n",
       "      <td>0</td>\n",
       "    </tr>\n",
       "    <tr>\n",
       "      <th>4</th>\n",
       "      <td>5</td>\n",
       "      <td>15737888</td>\n",
       "      <td>Mitchell</td>\n",
       "      <td>850</td>\n",
       "      <td>Spain</td>\n",
       "      <td>Female</td>\n",
       "      <td>43</td>\n",
       "      <td>2</td>\n",
       "      <td>125510.82</td>\n",
       "      <td>1</td>\n",
       "      <td>1</td>\n",
       "      <td>1</td>\n",
       "      <td>79084.10</td>\n",
       "      <td>0</td>\n",
       "    </tr>\n",
       "  </tbody>\n",
       "</table>\n",
       "</div>"
      ],
      "text/plain": [
       "   RowNumber  CustomerId   Surname  CreditScore Geography  Gender  Age  \\\n",
       "0          1    15634602  Hargrave          619    France  Female   42   \n",
       "1          2    15647311      Hill          608     Spain  Female   41   \n",
       "2          3    15619304      Onio          502    France  Female   42   \n",
       "3          4    15701354      Boni          699    France  Female   39   \n",
       "4          5    15737888  Mitchell          850     Spain  Female   43   \n",
       "\n",
       "   Tenure    Balance  NumOfProducts  HasCrCard  IsActiveMember  \\\n",
       "0       2       0.00              1          1               1   \n",
       "1       1   83807.86              1          0               1   \n",
       "2       8  159660.80              3          1               0   \n",
       "3       1       0.00              2          0               0   \n",
       "4       2  125510.82              1          1               1   \n",
       "\n",
       "   EstimatedSalary  Exited  \n",
       "0        101348.88       1  \n",
       "1        112542.58       0  \n",
       "2        113931.57       1  \n",
       "3         93826.63       0  \n",
       "4         79084.10       0  "
      ]
     },
     "execution_count": 2,
     "metadata": {},
     "output_type": "execute_result"
    }
   ],
   "source": [
    "df = pd.read_csv(\"data.csv\")\n",
    "df.head()"
   ]
  },
  {
   "cell_type": "code",
   "execution_count": 3,
   "metadata": {},
   "outputs": [],
   "source": [
    "X = df.iloc[:, 3:13]\n",
    "y = df.iloc[:, 13]"
   ]
  },
  {
   "cell_type": "code",
   "execution_count": 4,
   "metadata": {},
   "outputs": [],
   "source": [
    "#Create dummy variables\n",
    "geography=pd.get_dummies(X[\"Geography\"],drop_first=True)\n",
    "gender=pd.get_dummies(X['Gender'],drop_first=True)"
   ]
  },
  {
   "cell_type": "code",
   "execution_count": 5,
   "metadata": {},
   "outputs": [],
   "source": [
    "## Concatenate the Data Frames\n",
    "X=pd.concat([X,geography,gender],axis=1)"
   ]
  },
  {
   "cell_type": "code",
   "execution_count": 6,
   "metadata": {},
   "outputs": [],
   "source": [
    "## Drop Unnecessary columns\n",
    "X=X.drop(['Geography','Gender'],axis=1)"
   ]
  },
  {
   "cell_type": "code",
   "execution_count": 7,
   "metadata": {},
   "outputs": [],
   "source": [
    "# Splitting the dataset into the Training set and Test set\n",
    "from sklearn.model_selection import train_test_split\n",
    "X_train, X_test, y_train, y_test = train_test_split(X, y, test_size = 0.2, random_state = 0)"
   ]
  },
  {
   "cell_type": "code",
   "execution_count": 8,
   "metadata": {},
   "outputs": [],
   "source": [
    "# Feature Scaling\n",
    "from sklearn.preprocessing import StandardScaler\n",
    "sc = StandardScaler()\n",
    "X_train = sc.fit_transform(X_train)\n",
    "X_test = sc.transform(X_test)"
   ]
  },
  {
   "cell_type": "code",
   "execution_count": 9,
   "metadata": {},
   "outputs": [],
   "source": [
    "import keras\n",
    "from keras.models import Sequential\n",
    "from keras.layers import Dense\n",
    "from keras.layers import LeakyReLU,PReLU,ELU\n",
    "from keras.layers import Dropout"
   ]
  },
  {
   "cell_type": "code",
   "execution_count": 10,
   "metadata": {},
   "outputs": [],
   "source": [
    "# Initialising the ANN\n",
    "classifier = Sequential()\n",
    "\n",
    "# Adding the input layer and the first hidden layer\n",
    "classifier.add(Dense(units = 6, kernel_initializer = 'he_uniform',activation='relu',input_dim = 11))"
   ]
  },
  {
   "cell_type": "code",
   "execution_count": 11,
   "metadata": {},
   "outputs": [],
   "source": [
    "# Adding the second hidden layer\n",
    "classifier.add(Dense(units = 6,kernel_initializer = 'he_uniform',activation='relu'))\n"
   ]
  },
  {
   "cell_type": "code",
   "execution_count": 12,
   "metadata": {},
   "outputs": [],
   "source": [
    "# Adding the output layer\n",
    "classifier.add(Dense(units = 1, kernel_initializer = 'glorot_uniform', activation = 'sigmoid'))\n"
   ]
  },
  {
   "cell_type": "code",
   "execution_count": 13,
   "metadata": {},
   "outputs": [
    {
     "name": "stdout",
     "output_type": "stream",
     "text": [
      "Model: \"sequential\"\n",
      "_________________________________________________________________\n",
      "Layer (type)                 Output Shape              Param #   \n",
      "=================================================================\n",
      "dense (Dense)                (None, 6)                 72        \n",
      "_________________________________________________________________\n",
      "dense_1 (Dense)              (None, 6)                 42        \n",
      "_________________________________________________________________\n",
      "dense_2 (Dense)              (None, 1)                 7         \n",
      "=================================================================\n",
      "Total params: 121\n",
      "Trainable params: 121\n",
      "Non-trainable params: 0\n",
      "_________________________________________________________________\n"
     ]
    }
   ],
   "source": [
    "classifier.summary()\n"
   ]
  },
  {
   "cell_type": "code",
   "execution_count": 32,
   "metadata": {},
   "outputs": [],
   "source": [
    "# Compiling the ANN\n",
    "classifier.compile(optimizer = 'adam', loss = 'binary_crossentropy', metrics = ['accuracy'])\n"
   ]
  },
  {
   "cell_type": "code",
   "execution_count": 34,
   "metadata": {},
   "outputs": [
    {
     "name": "stdout",
     "output_type": "stream",
     "text": [
      "Epoch 1/100\n",
      "536/536 [==============================] - 2s 3ms/step - loss: 0.4806 - accuracy: 0.7959 - val_loss: 0.4665 - val_accuracy: 0.7959\n",
      "Epoch 2/100\n",
      "536/536 [==============================] - 1s 2ms/step - loss: 0.4509 - accuracy: 0.7998 - val_loss: 0.4479 - val_accuracy: 0.8027\n",
      "Epoch 3/100\n",
      "536/536 [==============================] - 1s 2ms/step - loss: 0.4356 - accuracy: 0.8100 - val_loss: 0.4380 - val_accuracy: 0.8111\n",
      "Epoch 4/100\n",
      "536/536 [==============================] - 1s 2ms/step - loss: 0.4262 - accuracy: 0.8160 - val_loss: 0.4299 - val_accuracy: 0.8156\n",
      "Epoch 5/100\n",
      "536/536 [==============================] - 1s 2ms/step - loss: 0.4184 - accuracy: 0.8173 - val_loss: 0.4231 - val_accuracy: 0.8167\n",
      "Epoch 6/100\n",
      "536/536 [==============================] - 1s 2ms/step - loss: 0.4113 - accuracy: 0.8222 - val_loss: 0.4171 - val_accuracy: 0.8183\n",
      "Epoch 7/100\n",
      "536/536 [==============================] - 1s 2ms/step - loss: 0.4043 - accuracy: 0.8229 - val_loss: 0.4121 - val_accuracy: 0.8232\n",
      "Epoch 8/100\n",
      "536/536 [==============================] - 1s 2ms/step - loss: 0.3988 - accuracy: 0.8253 - val_loss: 0.4073 - val_accuracy: 0.8228\n",
      "Epoch 9/100\n",
      "536/536 [==============================] - 1s 2ms/step - loss: 0.3938 - accuracy: 0.8298 - val_loss: 0.4017 - val_accuracy: 0.8258\n",
      "Epoch 10/100\n",
      "536/536 [==============================] - 1s 2ms/step - loss: 0.3887 - accuracy: 0.8322 - val_loss: 0.3979 - val_accuracy: 0.8289\n",
      "Epoch 11/100\n",
      "536/536 [==============================] - 1s 2ms/step - loss: 0.3829 - accuracy: 0.8364 - val_loss: 0.3931 - val_accuracy: 0.8323\n",
      "Epoch 12/100\n",
      "536/536 [==============================] - 1s 2ms/step - loss: 0.3786 - accuracy: 0.8414 - val_loss: 0.3904 - val_accuracy: 0.8353\n",
      "Epoch 13/100\n",
      "536/536 [==============================] - 1s 2ms/step - loss: 0.3742 - accuracy: 0.8431 - val_loss: 0.3866 - val_accuracy: 0.8379\n",
      "Epoch 14/100\n",
      "536/536 [==============================] - 1s 2ms/step - loss: 0.3696 - accuracy: 0.8442 - val_loss: 0.3849 - val_accuracy: 0.8402\n",
      "Epoch 15/100\n",
      "536/536 [==============================] - 1s 3ms/step - loss: 0.3660 - accuracy: 0.8475 - val_loss: 0.3796 - val_accuracy: 0.8436\n",
      "Epoch 16/100\n",
      "536/536 [==============================] - 1s 2ms/step - loss: 0.3617 - accuracy: 0.8490 - val_loss: 0.3768 - val_accuracy: 0.8432\n",
      "Epoch 17/100\n",
      "536/536 [==============================] - 1s 2ms/step - loss: 0.3585 - accuracy: 0.8505 - val_loss: 0.3752 - val_accuracy: 0.8417\n",
      "Epoch 18/100\n",
      "536/536 [==============================] - 1s 2ms/step - loss: 0.3546 - accuracy: 0.8496 - val_loss: 0.3735 - val_accuracy: 0.8413\n",
      "Epoch 19/100\n",
      "536/536 [==============================] - 1s 2ms/step - loss: 0.3522 - accuracy: 0.8489 - val_loss: 0.3718 - val_accuracy: 0.8448\n",
      "Epoch 20/100\n",
      "536/536 [==============================] - 1s 2ms/step - loss: 0.3495 - accuracy: 0.8526 - val_loss: 0.3677 - val_accuracy: 0.8448\n",
      "Epoch 21/100\n",
      "536/536 [==============================] - 1s 3ms/step - loss: 0.3475 - accuracy: 0.8548 - val_loss: 0.3657 - val_accuracy: 0.8470\n",
      "Epoch 22/100\n",
      "536/536 [==============================] - 1s 3ms/step - loss: 0.3455 - accuracy: 0.8543 - val_loss: 0.3652 - val_accuracy: 0.8482\n",
      "Epoch 23/100\n",
      "536/536 [==============================] - 1s 3ms/step - loss: 0.3435 - accuracy: 0.8567 - val_loss: 0.3634 - val_accuracy: 0.8504\n",
      "Epoch 24/100\n",
      "536/536 [==============================] - 1s 2ms/step - loss: 0.3423 - accuracy: 0.8561 - val_loss: 0.3638 - val_accuracy: 0.8474\n",
      "Epoch 25/100\n",
      "536/536 [==============================] - 1s 2ms/step - loss: 0.3406 - accuracy: 0.8580 - val_loss: 0.3626 - val_accuracy: 0.8489\n",
      "Epoch 26/100\n",
      "536/536 [==============================] - 1s 2ms/step - loss: 0.3393 - accuracy: 0.8608 - val_loss: 0.3623 - val_accuracy: 0.8493\n",
      "Epoch 27/100\n",
      "536/536 [==============================] - 1s 2ms/step - loss: 0.3386 - accuracy: 0.8587 - val_loss: 0.3623 - val_accuracy: 0.8489\n",
      "Epoch 28/100\n",
      "536/536 [==============================] - 1s 2ms/step - loss: 0.3375 - accuracy: 0.8595 - val_loss: 0.3609 - val_accuracy: 0.8508\n",
      "Epoch 29/100\n",
      "536/536 [==============================] - 1s 2ms/step - loss: 0.3370 - accuracy: 0.8597 - val_loss: 0.3661 - val_accuracy: 0.8459\n",
      "Epoch 30/100\n",
      "536/536 [==============================] - 1s 2ms/step - loss: 0.3370 - accuracy: 0.8604 - val_loss: 0.3608 - val_accuracy: 0.8489\n",
      "Epoch 31/100\n",
      "536/536 [==============================] - 1s 2ms/step - loss: 0.3360 - accuracy: 0.8599 - val_loss: 0.3608 - val_accuracy: 0.8508\n",
      "Epoch 32/100\n",
      "536/536 [==============================] - 1s 2ms/step - loss: 0.3357 - accuracy: 0.8582 - val_loss: 0.3615 - val_accuracy: 0.8523\n",
      "Epoch 33/100\n",
      "536/536 [==============================] - 1s 2ms/step - loss: 0.3357 - accuracy: 0.8608 - val_loss: 0.3604 - val_accuracy: 0.8504\n",
      "Epoch 34/100\n",
      "536/536 [==============================] - 1s 2ms/step - loss: 0.3349 - accuracy: 0.8617 - val_loss: 0.3613 - val_accuracy: 0.8482\n",
      "Epoch 35/100\n",
      "536/536 [==============================] - 1s 2ms/step - loss: 0.3355 - accuracy: 0.8587 - val_loss: 0.3607 - val_accuracy: 0.8512\n",
      "Epoch 36/100\n",
      "536/536 [==============================] - 1s 2ms/step - loss: 0.3352 - accuracy: 0.8630 - val_loss: 0.3588 - val_accuracy: 0.8504\n",
      "Epoch 37/100\n",
      "536/536 [==============================] - 1s 3ms/step - loss: 0.3344 - accuracy: 0.8612 - val_loss: 0.3596 - val_accuracy: 0.8512\n",
      "Epoch 38/100\n",
      "536/536 [==============================] - 1s 2ms/step - loss: 0.3341 - accuracy: 0.8610 - val_loss: 0.3606 - val_accuracy: 0.8482\n",
      "Epoch 39/100\n",
      "536/536 [==============================] - 1s 3ms/step - loss: 0.3341 - accuracy: 0.8584 - val_loss: 0.3587 - val_accuracy: 0.8527\n",
      "Epoch 40/100\n",
      "536/536 [==============================] - 1s 2ms/step - loss: 0.3336 - accuracy: 0.8608 - val_loss: 0.3594 - val_accuracy: 0.8527\n",
      "Epoch 41/100\n",
      "536/536 [==============================] - 1s 3ms/step - loss: 0.3326 - accuracy: 0.8595 - val_loss: 0.3587 - val_accuracy: 0.8538\n",
      "Epoch 42/100\n",
      "536/536 [==============================] - 1s 2ms/step - loss: 0.3326 - accuracy: 0.8617 - val_loss: 0.3591 - val_accuracy: 0.8527\n",
      "Epoch 43/100\n",
      "536/536 [==============================] - 1s 2ms/step - loss: 0.3330 - accuracy: 0.8621 - val_loss: 0.3581 - val_accuracy: 0.8550\n",
      "Epoch 44/100\n",
      "536/536 [==============================] - 1s 2ms/step - loss: 0.3325 - accuracy: 0.8623 - val_loss: 0.3593 - val_accuracy: 0.8523\n",
      "Epoch 45/100\n",
      "536/536 [==============================] - 1s 2ms/step - loss: 0.3327 - accuracy: 0.8619 - val_loss: 0.3590 - val_accuracy: 0.8542\n",
      "Epoch 46/100\n",
      "536/536 [==============================] - 1s 2ms/step - loss: 0.3316 - accuracy: 0.8608 - val_loss: 0.3602 - val_accuracy: 0.8512\n",
      "Epoch 47/100\n",
      "536/536 [==============================] - 1s 2ms/step - loss: 0.3318 - accuracy: 0.8612 - val_loss: 0.3575 - val_accuracy: 0.8546\n",
      "Epoch 48/100\n",
      "536/536 [==============================] - 2s 3ms/step - loss: 0.3316 - accuracy: 0.8617 - val_loss: 0.3568 - val_accuracy: 0.8554\n",
      "Epoch 49/100\n",
      "536/536 [==============================] - 2s 3ms/step - loss: 0.3316 - accuracy: 0.8606 - val_loss: 0.3589 - val_accuracy: 0.8519\n",
      "Epoch 50/100\n",
      "536/536 [==============================] - 1s 3ms/step - loss: 0.3300 - accuracy: 0.8671 - val_loss: 0.3572 - val_accuracy: 0.8557\n",
      "Epoch 51/100\n",
      "536/536 [==============================] - 1s 3ms/step - loss: 0.3308 - accuracy: 0.8625 - val_loss: 0.3565 - val_accuracy: 0.8565\n",
      "Epoch 52/100\n",
      "536/536 [==============================] - 1s 2ms/step - loss: 0.3305 - accuracy: 0.8642 - val_loss: 0.3597 - val_accuracy: 0.8531\n",
      "Epoch 53/100\n",
      "536/536 [==============================] - 1s 3ms/step - loss: 0.3308 - accuracy: 0.8621 - val_loss: 0.3578 - val_accuracy: 0.8561\n",
      "Epoch 54/100\n",
      "536/536 [==============================] - 1s 2ms/step - loss: 0.3300 - accuracy: 0.8630 - val_loss: 0.3578 - val_accuracy: 0.8516\n",
      "Epoch 55/100\n",
      "536/536 [==============================] - 1s 2ms/step - loss: 0.3303 - accuracy: 0.8608 - val_loss: 0.3569 - val_accuracy: 0.8550\n",
      "Epoch 56/100\n",
      "536/536 [==============================] - 2s 3ms/step - loss: 0.3294 - accuracy: 0.8638 - val_loss: 0.3567 - val_accuracy: 0.8565\n",
      "Epoch 57/100\n",
      "536/536 [==============================] - 1s 2ms/step - loss: 0.3296 - accuracy: 0.8608 - val_loss: 0.3569 - val_accuracy: 0.8546\n"
     ]
    },
    {
     "name": "stdout",
     "output_type": "stream",
     "text": [
      "Epoch 58/100\n",
      "536/536 [==============================] - 1s 2ms/step - loss: 0.3293 - accuracy: 0.8625 - val_loss: 0.3576 - val_accuracy: 0.8550\n",
      "Epoch 59/100\n",
      "536/536 [==============================] - 1s 2ms/step - loss: 0.3288 - accuracy: 0.8623 - val_loss: 0.3570 - val_accuracy: 0.8527\n",
      "Epoch 60/100\n",
      "536/536 [==============================] - 1s 2ms/step - loss: 0.3292 - accuracy: 0.8625 - val_loss: 0.3570 - val_accuracy: 0.8538\n",
      "Epoch 61/100\n",
      "536/536 [==============================] - 1s 2ms/step - loss: 0.3296 - accuracy: 0.8612 - val_loss: 0.3571 - val_accuracy: 0.8531\n",
      "Epoch 62/100\n",
      "536/536 [==============================] - 1s 2ms/step - loss: 0.3292 - accuracy: 0.8636 - val_loss: 0.3581 - val_accuracy: 0.8557\n",
      "Epoch 63/100\n",
      "536/536 [==============================] - 1s 2ms/step - loss: 0.3286 - accuracy: 0.8630 - val_loss: 0.3589 - val_accuracy: 0.8519\n",
      "Epoch 64/100\n",
      "536/536 [==============================] - 1s 3ms/step - loss: 0.3287 - accuracy: 0.8615 - val_loss: 0.3590 - val_accuracy: 0.8516\n",
      "Epoch 65/100\n",
      "536/536 [==============================] - 2s 3ms/step - loss: 0.3285 - accuracy: 0.8608 - val_loss: 0.3569 - val_accuracy: 0.8550\n",
      "Epoch 66/100\n",
      "536/536 [==============================] - 2s 3ms/step - loss: 0.3284 - accuracy: 0.8630 - val_loss: 0.3564 - val_accuracy: 0.8565\n",
      "Epoch 67/100\n",
      "536/536 [==============================] - 1s 2ms/step - loss: 0.3282 - accuracy: 0.8627 - val_loss: 0.3567 - val_accuracy: 0.8535\n",
      "Epoch 68/100\n",
      "536/536 [==============================] - 1s 2ms/step - loss: 0.3275 - accuracy: 0.8642 - val_loss: 0.3570 - val_accuracy: 0.8546\n",
      "Epoch 69/100\n",
      "536/536 [==============================] - 2s 3ms/step - loss: 0.3279 - accuracy: 0.8604 - val_loss: 0.3577 - val_accuracy: 0.8531\n",
      "Epoch 70/100\n",
      "536/536 [==============================] - 1s 3ms/step - loss: 0.3277 - accuracy: 0.8640 - val_loss: 0.3581 - val_accuracy: 0.8546\n",
      "Epoch 71/100\n",
      "536/536 [==============================] - 1s 2ms/step - loss: 0.3273 - accuracy: 0.8621 - val_loss: 0.3591 - val_accuracy: 0.8535\n",
      "Epoch 72/100\n",
      "536/536 [==============================] - 1s 2ms/step - loss: 0.3281 - accuracy: 0.8606 - val_loss: 0.3572 - val_accuracy: 0.8561\n",
      "Epoch 73/100\n",
      "536/536 [==============================] - 1s 2ms/step - loss: 0.3277 - accuracy: 0.8627 - val_loss: 0.3562 - val_accuracy: 0.8557\n",
      "Epoch 74/100\n",
      "536/536 [==============================] - 1s 2ms/step - loss: 0.3276 - accuracy: 0.8636 - val_loss: 0.3564 - val_accuracy: 0.8561\n",
      "Epoch 75/100\n",
      "536/536 [==============================] - 1s 2ms/step - loss: 0.3274 - accuracy: 0.8619 - val_loss: 0.3571 - val_accuracy: 0.8546\n",
      "Epoch 76/100\n",
      "536/536 [==============================] - 1s 2ms/step - loss: 0.3272 - accuracy: 0.8619 - val_loss: 0.3582 - val_accuracy: 0.8538\n",
      "Epoch 77/100\n",
      "536/536 [==============================] - 1s 2ms/step - loss: 0.3274 - accuracy: 0.8640 - val_loss: 0.3580 - val_accuracy: 0.8569\n",
      "Epoch 78/100\n",
      "536/536 [==============================] - 2s 3ms/step - loss: 0.3275 - accuracy: 0.8640 - val_loss: 0.3569 - val_accuracy: 0.8565\n",
      "Epoch 79/100\n",
      "536/536 [==============================] - 1s 2ms/step - loss: 0.3268 - accuracy: 0.8638 - val_loss: 0.3572 - val_accuracy: 0.8565\n",
      "Epoch 80/100\n",
      "536/536 [==============================] - 1s 2ms/step - loss: 0.3271 - accuracy: 0.8597 - val_loss: 0.3605 - val_accuracy: 0.8550\n",
      "Epoch 81/100\n",
      "536/536 [==============================] - 1s 2ms/step - loss: 0.3272 - accuracy: 0.8647 - val_loss: 0.3561 - val_accuracy: 0.8569\n",
      "Epoch 82/100\n",
      "536/536 [==============================] - 1s 2ms/step - loss: 0.3265 - accuracy: 0.8638 - val_loss: 0.3571 - val_accuracy: 0.8561\n",
      "Epoch 83/100\n",
      "536/536 [==============================] - 1s 3ms/step - loss: 0.3270 - accuracy: 0.8608 - val_loss: 0.3568 - val_accuracy: 0.8569\n",
      "Epoch 84/100\n",
      "536/536 [==============================] - 1s 2ms/step - loss: 0.3267 - accuracy: 0.8643 - val_loss: 0.3567 - val_accuracy: 0.8561\n",
      "Epoch 85/100\n",
      "536/536 [==============================] - 1s 2ms/step - loss: 0.3264 - accuracy: 0.8642 - val_loss: 0.3585 - val_accuracy: 0.8573\n",
      "Epoch 86/100\n",
      "536/536 [==============================] - 1s 2ms/step - loss: 0.3269 - accuracy: 0.8628 - val_loss: 0.3554 - val_accuracy: 0.8573\n",
      "Epoch 87/100\n",
      "536/536 [==============================] - 1s 2ms/step - loss: 0.3270 - accuracy: 0.8628 - val_loss: 0.3562 - val_accuracy: 0.8550\n",
      "Epoch 88/100\n",
      "536/536 [==============================] - 1s 2ms/step - loss: 0.3263 - accuracy: 0.8615 - val_loss: 0.3564 - val_accuracy: 0.8550\n",
      "Epoch 89/100\n",
      "536/536 [==============================] - 1s 2ms/step - loss: 0.3268 - accuracy: 0.8634 - val_loss: 0.3559 - val_accuracy: 0.8565\n",
      "Epoch 90/100\n",
      "536/536 [==============================] - 1s 2ms/step - loss: 0.3265 - accuracy: 0.8651 - val_loss: 0.3559 - val_accuracy: 0.8573\n",
      "Epoch 91/100\n",
      "536/536 [==============================] - 1s 2ms/step - loss: 0.3258 - accuracy: 0.8649 - val_loss: 0.3557 - val_accuracy: 0.8569\n",
      "Epoch 92/100\n",
      "536/536 [==============================] - 1s 2ms/step - loss: 0.3259 - accuracy: 0.8619 - val_loss: 0.3552 - val_accuracy: 0.8550\n",
      "Epoch 93/100\n",
      "536/536 [==============================] - 1s 2ms/step - loss: 0.3258 - accuracy: 0.8621 - val_loss: 0.3559 - val_accuracy: 0.8550\n",
      "Epoch 94/100\n",
      "536/536 [==============================] - 1s 2ms/step - loss: 0.3260 - accuracy: 0.8634 - val_loss: 0.3556 - val_accuracy: 0.8573\n",
      "Epoch 95/100\n",
      "536/536 [==============================] - 1s 3ms/step - loss: 0.3260 - accuracy: 0.8610 - val_loss: 0.3556 - val_accuracy: 0.8554\n",
      "Epoch 96/100\n",
      "536/536 [==============================] - 1s 3ms/step - loss: 0.3257 - accuracy: 0.8621 - val_loss: 0.3546 - val_accuracy: 0.8561\n",
      "Epoch 97/100\n",
      "536/536 [==============================] - 1s 2ms/step - loss: 0.3259 - accuracy: 0.8627 - val_loss: 0.3558 - val_accuracy: 0.8542\n",
      "Epoch 98/100\n",
      "536/536 [==============================] - 1s 2ms/step - loss: 0.3264 - accuracy: 0.8640 - val_loss: 0.3552 - val_accuracy: 0.8557\n",
      "Epoch 99/100\n",
      "536/536 [==============================] - 1s 2ms/step - loss: 0.3258 - accuracy: 0.8632 - val_loss: 0.3571 - val_accuracy: 0.8573\n",
      "Epoch 100/100\n",
      "536/536 [==============================] - 1s 2ms/step - loss: 0.3255 - accuracy: 0.8599 - val_loss: 0.3552 - val_accuracy: 0.8573\n"
     ]
    }
   ],
   "source": [
    "# Fitting the ANN to the Training set\n",
    "model_history=classifier.fit(X_train, y_train,validation_split=0.33, batch_size = 10, epochs = 100)\n",
    "                            "
   ]
  },
  {
   "cell_type": "code",
   "execution_count": 35,
   "metadata": {},
   "outputs": [
    {
     "name": "stdout",
     "output_type": "stream",
     "text": [
      "dict_keys(['loss', 'accuracy', 'val_loss', 'val_accuracy'])\n"
     ]
    },
    {
     "data": {
      "image/png": "[encoded data removed]",
      "text/plain": [
       "<Figure size 432x288 with 1 Axes>"
      ]
     },
     "metadata": {
      "needs_background": "light"
     },
     "output_type": "display_data"
    },
    {
     "data": {
      "image/png": "[encoded data removed]",
      "text/plain": [
       "<Figure size 432x288 with 1 Axes>"
      ]
     },
     "metadata": {
      "needs_background": "light"
     },
     "output_type": "display_data"
    }
   ],
   "source": [
    "print(model_history.history.keys())\n",
    "# summarize history for accuracy\n",
    "plt.plot(model_history.history['accuracy'])\n",
    "plt.plot(model_history.history['val_accuracy'])\n",
    "plt.title('model accuracy')\n",
    "plt.ylabel('accuracy')\n",
    "plt.xlabel('epoch')\n",
    "plt.legend(['train', 'test'], loc='upper left')\n",
    "plt.show()\n",
    "\n",
    "# summarize history for loss\n",
    "plt.plot(model_history.history['loss'])\n",
    "plt.plot(model_history.history['val_loss'])\n",
    "plt.title('model loss')\n",
    "plt.ylabel('loss')\n",
    "plt.xlabel('epoch')\n",
    "plt.legend(['train', 'test'], loc='upper left')\n",
    "plt.show()"
   ]
  },
  {
   "cell_type": "code",
   "execution_count": 36,
   "metadata": {},
   "outputs": [],
   "source": [
    "# Predicting the Test set results\n",
    "y_pred = classifier.predict(X_test)\n",
    "y_pred = (y_pred > 0.5)\n",
    "\n",
    "# Making the Confusion Matrix\n",
    "from sklearn.metrics import confusion_matrix\n",
    "cm = confusion_matrix(y_test, y_pred)\n",
    "\n",
    "# Calculate the Accuracy\n",
    "from sklearn.metrics import accuracy_score\n",
    "score=accuracy_score(y_pred,y_test)"
   ]
  },
  {
   "cell_type": "code",
   "execution_count": 40,
   "metadata": {},
   "outputs": [
    {
     "name": "stdout",
     "output_type": "stream",
     "text": [
      "Model Score: 86.1\n"
     ]
    }
   ],
   "source": [
    "print(\"Model Score:\",score * 100)"
   ]
  },
  {
   "cell_type": "code",
   "execution_count": null,
   "metadata": {},
   "outputs": [],
   "source": []
  }
 ],
 "metadata": {
  "kernelspec": {
   "display_name": "Python 3",
   "language": "python",
   "name": "python3"
  },
  "language_info": {
   "codemirror_mode": {
    "name": "ipython",
    "version": 3
   },
   "file_extension": ".py",
   "mimetype": "text/x-python",
   "name": "python",
   "nbconvert_exporter": "python",
   "pygments_lexer": "ipython3",
   "version": "3.7.6"
  }
 },
 "nbformat": 4,
 "nbformat_minor": 4
}
