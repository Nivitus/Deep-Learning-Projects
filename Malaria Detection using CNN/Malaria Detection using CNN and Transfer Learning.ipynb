{
 "cells": [
  {
   "cell_type": "markdown",
   "metadata": {},
   "source": [
    "## Malaria Detection Using CNN And Transfer Learning VGG19"
   ]
  },
  {
   "cell_type": "code",
   "execution_count": 1,
   "metadata": {},
   "outputs": [],
   "source": [
    "# import the libraries as shown below\n",
    "\n",
    "from tensorflow.keras.layers import Input, Lambda, Dense, Flatten,Conv2D\n",
    "from tensorflow.keras.models import Model\n",
    "from tensorflow.keras.applications.vgg19 import VGG19\n",
    "from tensorflow.keras.applications.resnet50 import preprocess_input\n",
    "from tensorflow.keras.preprocessing import image\n",
    "from tensorflow.keras.preprocessing.image import ImageDataGenerator,load_img\n",
    "from tensorflow.keras.models import Sequential\n",
    "import numpy as np\n",
    "from glob import glob\n",
    "import matplotlib.pyplot as plt"
   ]
  },
  {
   "cell_type": "code",
   "execution_count": 2,
   "metadata": {},
   "outputs": [],
   "source": [
    "# re-size all the images to this\n",
    "IMAGE_SIZE = [224, 224]\n",
    "\n",
    "train_path = 'Dataset/Train'\n",
    "valid_path = 'Dataset/Test'\n"
   ]
  },
  {
   "cell_type": "code",
   "execution_count": 3,
   "metadata": {},
   "outputs": [],
   "source": [
    "# Import the Vgg 16 library as shown below and add preprocessing layer to the front of VGG\n",
    "# Here we will be using imagenet weights\n",
    "\n",
    "mobilnet = VGG19(input_shape=IMAGE_SIZE + [3], weights='imagenet', include_top=False)\n"
   ]
  },
  {
   "cell_type": "code",
   "execution_count": 4,
   "metadata": {},
   "outputs": [],
   "source": [
    "# don't train existing weights\n",
    "for layer in mobilnet.layers:\n",
    "    layer.trainable = False"
   ]
  },
  {
   "cell_type": "code",
   "execution_count": 5,
   "metadata": {},
   "outputs": [],
   "source": [
    "# useful for getting number of output classes\n",
    "folders = glob('Dataset/Train/*')"
   ]
  },
  {
   "cell_type": "code",
   "execution_count": 6,
   "metadata": {},
   "outputs": [
    {
     "data": {
      "text/plain": [
       "['Dataset/Train\\\\Parasite', 'Dataset/Train\\\\Uninfected']"
      ]
     },
     "execution_count": 6,
     "metadata": {},
     "output_type": "execute_result"
    }
   ],
   "source": [
    "folders"
   ]
  },
  {
   "cell_type": "code",
   "execution_count": 7,
   "metadata": {},
   "outputs": [],
   "source": [
    "# our layers - you can add more if you want\n",
    "x = Flatten()(mobilnet.output)"
   ]
  },
  {
   "cell_type": "code",
   "execution_count": 8,
   "metadata": {},
   "outputs": [],
   "source": [
    "prediction = Dense(len(folders), activation='softmax')(x)\n",
    "\n",
    "# create a model object\n",
    "model = Model(inputs=mobilnet.input, outputs=prediction)"
   ]
  },
  {
   "cell_type": "code",
   "execution_count": 9,
   "metadata": {},
   "outputs": [
    {
     "name": "stdout",
     "output_type": "stream",
     "text": [
      "Model: \"functional_1\"\n",
      "_________________________________________________________________\n",
      "Layer (type)                 Output Shape              Param #   \n",
      "=================================================================\n",
      "input_1 (InputLayer)         [(None, 224, 224, 3)]     0         \n",
      "_________________________________________________________________\n",
      "block1_conv1 (Conv2D)        (None, 224, 224, 64)      1792      \n",
      "_________________________________________________________________\n",
      "block1_conv2 (Conv2D)        (None, 224, 224, 64)      36928     \n",
      "_________________________________________________________________\n",
      "block1_pool (MaxPooling2D)   (None, 112, 112, 64)      0         \n",
      "_________________________________________________________________\n",
      "block2_conv1 (Conv2D)        (None, 112, 112, 128)     73856     \n",
      "_________________________________________________________________\n",
      "block2_conv2 (Conv2D)        (None, 112, 112, 128)     147584    \n",
      "_________________________________________________________________\n",
      "block2_pool (MaxPooling2D)   (None, 56, 56, 128)       0         \n",
      "_________________________________________________________________\n",
      "block3_conv1 (Conv2D)        (None, 56, 56, 256)       295168    \n",
      "_________________________________________________________________\n",
      "block3_conv2 (Conv2D)        (None, 56, 56, 256)       590080    \n",
      "_________________________________________________________________\n",
      "block3_conv3 (Conv2D)        (None, 56, 56, 256)       590080    \n",
      "_________________________________________________________________\n",
      "block3_conv4 (Conv2D)        (None, 56, 56, 256)       590080    \n",
      "_________________________________________________________________\n",
      "block3_pool (MaxPooling2D)   (None, 28, 28, 256)       0         \n",
      "_________________________________________________________________\n",
      "block4_conv1 (Conv2D)        (None, 28, 28, 512)       1180160   \n",
      "_________________________________________________________________\n",
      "block4_conv2 (Conv2D)        (None, 28, 28, 512)       2359808   \n",
      "_________________________________________________________________\n",
      "block4_conv3 (Conv2D)        (None, 28, 28, 512)       2359808   \n",
      "_________________________________________________________________\n",
      "block4_conv4 (Conv2D)        (None, 28, 28, 512)       2359808   \n",
      "_________________________________________________________________\n",
      "block4_pool (MaxPooling2D)   (None, 14, 14, 512)       0         \n",
      "_________________________________________________________________\n",
      "block5_conv1 (Conv2D)        (None, 14, 14, 512)       2359808   \n",
      "_________________________________________________________________\n",
      "block5_conv2 (Conv2D)        (None, 14, 14, 512)       2359808   \n",
      "_________________________________________________________________\n",
      "block5_conv3 (Conv2D)        (None, 14, 14, 512)       2359808   \n",
      "_________________________________________________________________\n",
      "block5_conv4 (Conv2D)        (None, 14, 14, 512)       2359808   \n",
      "_________________________________________________________________\n",
      "block5_pool (MaxPooling2D)   (None, 7, 7, 512)         0         \n",
      "_________________________________________________________________\n",
      "flatten (Flatten)            (None, 25088)             0         \n",
      "_________________________________________________________________\n",
      "dense (Dense)                (None, 2)                 50178     \n",
      "=================================================================\n",
      "Total params: 20,074,562\n",
      "Trainable params: 50,178\n",
      "Non-trainable params: 20,024,384\n",
      "_________________________________________________________________\n"
     ]
    }
   ],
   "source": [
    "# view the structure of the model\n",
    "model.summary()\n"
   ]
  },
  {
   "cell_type": "code",
   "execution_count": 10,
   "metadata": {},
   "outputs": [],
   "source": [
    "from tensorflow.keras.layers import MaxPooling2D"
   ]
  },
  {
   "cell_type": "code",
   "execution_count": 11,
   "metadata": {},
   "outputs": [
    {
     "name": "stdout",
     "output_type": "stream",
     "text": [
      "Model: \"sequential\"\n",
      "_________________________________________________________________\n",
      "Layer (type)                 Output Shape              Param #   \n",
      "=================================================================\n",
      "conv2d (Conv2D)              (None, 224, 224, 16)      208       \n",
      "_________________________________________________________________\n",
      "max_pooling2d (MaxPooling2D) (None, 112, 112, 16)      0         \n",
      "_________________________________________________________________\n",
      "conv2d_1 (Conv2D)            (None, 112, 112, 32)      2080      \n",
      "_________________________________________________________________\n",
      "max_pooling2d_1 (MaxPooling2 (None, 56, 56, 32)        0         \n",
      "_________________________________________________________________\n",
      "conv2d_2 (Conv2D)            (None, 56, 56, 64)        8256      \n",
      "_________________________________________________________________\n",
      "max_pooling2d_2 (MaxPooling2 (None, 28, 28, 64)        0         \n",
      "_________________________________________________________________\n",
      "flatten_1 (Flatten)          (None, 50176)             0         \n",
      "_________________________________________________________________\n",
      "dense_1 (Dense)              (None, 500)               25088500  \n",
      "_________________________________________________________________\n",
      "dense_2 (Dense)              (None, 2)                 1002      \n",
      "=================================================================\n",
      "Total params: 25,100,046\n",
      "Trainable params: 25,100,046\n",
      "Non-trainable params: 0\n",
      "_________________________________________________________________\n"
     ]
    }
   ],
   "source": [
    "### Create Model from scratch using CNN\n",
    "model=Sequential()\n",
    "model.add(Conv2D(filters=16,kernel_size=2,padding=\"same\",activation=\"relu\",input_shape=(224,224,3)))\n",
    "model.add(MaxPooling2D(pool_size=2))\n",
    "model.add(Conv2D(filters=32,kernel_size=2,padding=\"same\",activation =\"relu\"))\n",
    "model.add(MaxPooling2D(pool_size=2))\n",
    "model.add(Conv2D(filters=64,kernel_size=2,padding=\"same\",activation=\"relu\"))\n",
    "model.add(MaxPooling2D(pool_size=2))\n",
    "model.add(Flatten())\n",
    "model.add(Dense(500,activation=\"relu\"))\n",
    "model.add(Dense(2,activation=\"softmax\"))\n",
    "model.summary()"
   ]
  },
  {
   "cell_type": "code",
   "execution_count": 12,
   "metadata": {},
   "outputs": [],
   "source": [
    "# tell the model what cost and optimization method to use\n",
    "model.compile(\n",
    "  loss='categorical_crossentropy',\n",
    "  optimizer='adam',\n",
    "  metrics=['accuracy']\n",
    ")\n"
   ]
  },
  {
   "cell_type": "code",
   "execution_count": 13,
   "metadata": {},
   "outputs": [],
   "source": [
    "# Use the Image Data Generator to import the images from the dataset\n",
    "from tensorflow.keras.preprocessing.image import ImageDataGenerator\n",
    "\n",
    "train_datagen = ImageDataGenerator(rescale = 1./255,\n",
    "                                   shear_range = 0.2,\n",
    "                                   zoom_range = 0.2,\n",
    "                                   horizontal_flip = True)\n",
    "\n",
    "test_datagen = ImageDataGenerator(rescale = 1./255)"
   ]
  },
  {
   "cell_type": "code",
   "execution_count": 14,
   "metadata": {},
   "outputs": [
    {
     "name": "stdout",
     "output_type": "stream",
     "text": [
      "Found 416 images belonging to 2 classes.\n"
     ]
    }
   ],
   "source": [
    "# Make sure you provide the same target size as initialied for the image size\n",
    "training_set = train_datagen.flow_from_directory('Dataset/Train',\n",
    "                                                 target_size = (224, 224),\n",
    "                                                 batch_size = 32,\n",
    "                                                 class_mode = 'categorical')"
   ]
  },
  {
   "cell_type": "code",
   "execution_count": 15,
   "metadata": {},
   "outputs": [
    {
     "data": {
      "text/plain": [
       "<tensorflow.python.keras.preprocessing.image.DirectoryIterator at 0x24ec5650608>"
      ]
     },
     "execution_count": 15,
     "metadata": {},
     "output_type": "execute_result"
    }
   ],
   "source": [
    "training_set"
   ]
  },
  {
   "cell_type": "code",
   "execution_count": 16,
   "metadata": {},
   "outputs": [
    {
     "name": "stdout",
     "output_type": "stream",
     "text": [
      "Found 134 images belonging to 2 classes.\n"
     ]
    }
   ],
   "source": [
    "test_set = test_datagen.flow_from_directory('Dataset/Test',\n",
    "                                            target_size = (224, 224),\n",
    "                                            batch_size = 32,\n",
    "                                            class_mode = 'categorical')"
   ]
  },
  {
   "cell_type": "code",
   "execution_count": 17,
   "metadata": {
    "scrolled": true
   },
   "outputs": [
    {
     "name": "stdout",
     "output_type": "stream",
     "text": [
      "WARNING:tensorflow:From <ipython-input-17-b195b6f1aa8b>:8: Model.fit_generator (from tensorflow.python.keras.engine.training) is deprecated and will be removed in a future version.\n",
      "Instructions for updating:\n",
      "Please use Model.fit, which supports generators.\n",
      "Epoch 1/100\n",
      "13/13 [==============================] - 17s 1s/step - loss: 1.5440 - accuracy: 0.5264 - val_loss: 0.7627 - val_accuracy: 0.3209\n",
      "Epoch 2/100\n",
      "13/13 [==============================] - 17s 1s/step - loss: 0.6885 - accuracy: 0.5697 - val_loss: 0.7314 - val_accuracy: 0.3433\n",
      "Epoch 3/100\n",
      "13/13 [==============================] - 17s 1s/step - loss: 0.6629 - accuracy: 0.5841 - val_loss: 0.7383 - val_accuracy: 0.3731\n",
      "Epoch 4/100\n",
      "13/13 [==============================] - 17s 1s/step - loss: 0.6222 - accuracy: 0.6851 - val_loss: 0.7342 - val_accuracy: 0.4104\n",
      "Epoch 5/100\n",
      "13/13 [==============================] - 17s 1s/step - loss: 0.5486 - accuracy: 0.7452 - val_loss: 1.0547 - val_accuracy: 0.3209\n",
      "Epoch 6/100\n",
      "13/13 [==============================] - 18s 1s/step - loss: 0.6470 - accuracy: 0.6058 - val_loss: 0.7068 - val_accuracy: 0.4627\n",
      "Epoch 7/100\n",
      "13/13 [==============================] - 17s 1s/step - loss: 0.5187 - accuracy: 0.7476 - val_loss: 0.7767 - val_accuracy: 0.4403\n",
      "Epoch 8/100\n",
      "13/13 [==============================] - 17s 1s/step - loss: 0.5061 - accuracy: 0.7284 - val_loss: 1.2518 - val_accuracy: 0.3358\n",
      "Epoch 9/100\n",
      "13/13 [==============================] - 17s 1s/step - loss: 0.4996 - accuracy: 0.7500 - val_loss: 0.8412 - val_accuracy: 0.4104\n",
      "Epoch 10/100\n",
      "13/13 [==============================] - 17s 1s/step - loss: 0.4379 - accuracy: 0.8005 - val_loss: 0.7996 - val_accuracy: 0.4627\n",
      "Epoch 11/100\n",
      "13/13 [==============================] - 17s 1s/step - loss: 0.4333 - accuracy: 0.7981 - val_loss: 0.9432 - val_accuracy: 0.4179\n",
      "Epoch 12/100\n",
      "13/13 [==============================] - 20s 2s/step - loss: 0.4539 - accuracy: 0.7837 - val_loss: 0.8518 - val_accuracy: 0.5075\n",
      "Epoch 13/100\n",
      "13/13 [==============================] - 17s 1s/step - loss: 0.3619 - accuracy: 0.8245 - val_loss: 0.7704 - val_accuracy: 0.4701\n",
      "Epoch 14/100\n",
      "13/13 [==============================] - 17s 1s/step - loss: 0.3506 - accuracy: 0.8534 - val_loss: 0.8665 - val_accuracy: 0.4627\n",
      "Epoch 15/100\n",
      "13/13 [==============================] - 17s 1s/step - loss: 0.2936 - accuracy: 0.8870 - val_loss: 1.7472 - val_accuracy: 0.6567\n",
      "Epoch 16/100\n",
      "13/13 [==============================] - 17s 1s/step - loss: 0.5357 - accuracy: 0.7212 - val_loss: 0.6592 - val_accuracy: 0.5970\n",
      "Epoch 17/100\n",
      "13/13 [==============================] - 17s 1s/step - loss: 0.3771 - accuracy: 0.8413 - val_loss: 0.5869 - val_accuracy: 0.6716\n",
      "Epoch 18/100\n",
      "13/13 [==============================] - 17s 1s/step - loss: 0.3183 - accuracy: 0.8774 - val_loss: 0.5928 - val_accuracy: 0.6716\n",
      "Epoch 19/100\n",
      "13/13 [==============================] - 17s 1s/step - loss: 0.2702 - accuracy: 0.9111 - val_loss: 0.5193 - val_accuracy: 0.7164\n",
      "Epoch 20/100\n",
      "13/13 [==============================] - 17s 1s/step - loss: 0.2615 - accuracy: 0.8966 - val_loss: 0.4030 - val_accuracy: 0.8433\n",
      "Epoch 21/100\n",
      "13/13 [==============================] - 17s 1s/step - loss: 0.2189 - accuracy: 0.9207 - val_loss: 0.4932 - val_accuracy: 0.7313\n",
      "Epoch 22/100\n",
      "13/13 [==============================] - 17s 1s/step - loss: 0.2261 - accuracy: 0.9159 - val_loss: 0.4052 - val_accuracy: 0.8060\n",
      "Epoch 23/100\n",
      "13/13 [==============================] - 17s 1s/step - loss: 0.1913 - accuracy: 0.9423 - val_loss: 0.3991 - val_accuracy: 0.7910\n",
      "Epoch 24/100\n",
      "13/13 [==============================] - 17s 1s/step - loss: 0.1606 - accuracy: 0.9423 - val_loss: 0.4049 - val_accuracy: 0.8134\n",
      "Epoch 25/100\n",
      "13/13 [==============================] - 17s 1s/step - loss: 0.1469 - accuracy: 0.9375 - val_loss: 0.4595 - val_accuracy: 0.7612\n",
      "Epoch 26/100\n",
      "13/13 [==============================] - 17s 1s/step - loss: 0.2789 - accuracy: 0.9087 - val_loss: 0.6222 - val_accuracy: 0.6642\n",
      "Epoch 27/100\n",
      "13/13 [==============================] - 17s 1s/step - loss: 0.2943 - accuracy: 0.8870 - val_loss: 0.4303 - val_accuracy: 0.8060\n",
      "Epoch 28/100\n",
      "13/13 [==============================] - 17s 1s/step - loss: 0.2381 - accuracy: 0.9087 - val_loss: 0.5238 - val_accuracy: 0.7313\n",
      "Epoch 29/100\n",
      "13/13 [==============================] - 17s 1s/step - loss: 0.1575 - accuracy: 0.9279 - val_loss: 0.3843 - val_accuracy: 0.8209\n",
      "Epoch 30/100\n",
      "13/13 [==============================] - 17s 1s/step - loss: 0.1193 - accuracy: 0.9543 - val_loss: 0.4118 - val_accuracy: 0.7836\n",
      "Epoch 31/100\n",
      "13/13 [==============================] - 17s 1s/step - loss: 0.1872 - accuracy: 0.9327 - val_loss: 0.3090 - val_accuracy: 0.8955\n",
      "Epoch 32/100\n",
      "13/13 [==============================] - 17s 1s/step - loss: 0.1301 - accuracy: 0.9663 - val_loss: 0.2780 - val_accuracy: 0.8806\n",
      "Epoch 33/100\n",
      "13/13 [==============================] - 17s 1s/step - loss: 0.1372 - accuracy: 0.9495 - val_loss: 0.3049 - val_accuracy: 0.8507\n",
      "Epoch 34/100\n",
      "13/13 [==============================] - 17s 1s/step - loss: 0.1760 - accuracy: 0.9495 - val_loss: 0.8820 - val_accuracy: 0.5821\n",
      "Epoch 35/100\n",
      "13/13 [==============================] - 17s 1s/step - loss: 0.2819 - accuracy: 0.8798 - val_loss: 0.4799 - val_accuracy: 0.7612\n",
      "Epoch 36/100\n",
      "13/13 [==============================] - 17s 1s/step - loss: 0.2427 - accuracy: 0.9183 - val_loss: 0.3210 - val_accuracy: 0.8881\n",
      "Epoch 37/100\n",
      "13/13 [==============================] - 17s 1s/step - loss: 0.1947 - accuracy: 0.9303 - val_loss: 0.2298 - val_accuracy: 0.9030\n",
      "Epoch 38/100\n",
      "13/13 [==============================] - 17s 1s/step - loss: 0.1212 - accuracy: 0.9615 - val_loss: 0.2055 - val_accuracy: 0.9104\n",
      "Epoch 39/100\n",
      "13/13 [==============================] - 17s 1s/step - loss: 0.1025 - accuracy: 0.9736 - val_loss: 0.5163 - val_accuracy: 0.7761\n",
      "Epoch 40/100\n",
      "13/13 [==============================] - 17s 1s/step - loss: 0.1430 - accuracy: 0.9255 - val_loss: 0.2252 - val_accuracy: 0.9030\n",
      "Epoch 41/100\n",
      "13/13 [==============================] - 17s 1s/step - loss: 0.1135 - accuracy: 0.9639 - val_loss: 0.2041 - val_accuracy: 0.9254\n",
      "Epoch 42/100\n",
      "13/13 [==============================] - 17s 1s/step - loss: 0.1311 - accuracy: 0.9567 - val_loss: 0.2221 - val_accuracy: 0.9328\n",
      "Epoch 43/100\n",
      "13/13 [==============================] - 17s 1s/step - loss: 0.0900 - accuracy: 0.9663 - val_loss: 0.2269 - val_accuracy: 0.8955\n",
      "Epoch 44/100\n",
      "13/13 [==============================] - 17s 1s/step - loss: 0.0542 - accuracy: 0.9856 - val_loss: 0.2203 - val_accuracy: 0.9030\n",
      "Epoch 45/100\n",
      "13/13 [==============================] - 17s 1s/step - loss: 0.0987 - accuracy: 0.9784 - val_loss: 0.3326 - val_accuracy: 0.8731\n",
      "Epoch 46/100\n",
      "13/13 [==============================] - 17s 1s/step - loss: 0.1336 - accuracy: 0.9495 - val_loss: 0.2678 - val_accuracy: 0.8806\n",
      "Epoch 47/100\n",
      "13/13 [==============================] - 17s 1s/step - loss: 0.0863 - accuracy: 0.9688 - val_loss: 0.2022 - val_accuracy: 0.8881\n",
      "Epoch 48/100\n",
      "13/13 [==============================] - 17s 1s/step - loss: 0.0607 - accuracy: 0.9808 - val_loss: 0.1278 - val_accuracy: 0.9478\n",
      "Epoch 49/100\n",
      "13/13 [==============================] - 17s 1s/step - loss: 0.0383 - accuracy: 0.9904 - val_loss: 0.1351 - val_accuracy: 0.9627\n",
      "Epoch 50/100\n",
      "13/13 [==============================] - 17s 1s/step - loss: 0.0727 - accuracy: 0.9712 - val_loss: 0.2410 - val_accuracy: 0.9030\n",
      "Epoch 51/100\n",
      "13/13 [==============================] - 17s 1s/step - loss: 0.0530 - accuracy: 0.9880 - val_loss: 0.1764 - val_accuracy: 0.9254\n",
      "Epoch 52/100\n",
      "13/13 [==============================] - 17s 1s/step - loss: 0.0350 - accuracy: 0.9880 - val_loss: 0.1929 - val_accuracy: 0.9328\n",
      "Epoch 53/100\n",
      "13/13 [==============================] - 17s 1s/step - loss: 0.0350 - accuracy: 0.9928 - val_loss: 0.3399 - val_accuracy: 0.8806\n",
      "Epoch 54/100\n",
      "13/13 [==============================] - 17s 1s/step - loss: 0.0976 - accuracy: 0.9663 - val_loss: 0.4710 - val_accuracy: 0.8284\n",
      "Epoch 55/100\n",
      "13/13 [==============================] - 17s 1s/step - loss: 0.0713 - accuracy: 0.9760 - val_loss: 0.1109 - val_accuracy: 0.9627\n",
      "Epoch 56/100\n",
      "13/13 [==============================] - 17s 1s/step - loss: 0.0334 - accuracy: 0.9952 - val_loss: 0.1553 - val_accuracy: 0.9254\n"
     ]
    },
    {
     "name": "stdout",
     "output_type": "stream",
     "text": [
      "Epoch 57/100\n",
      "13/13 [==============================] - 17s 1s/step - loss: 0.0427 - accuracy: 0.9832 - val_loss: 0.5087 - val_accuracy: 0.8209\n",
      "Epoch 58/100\n",
      "13/13 [==============================] - 17s 1s/step - loss: 0.1087 - accuracy: 0.9519 - val_loss: 0.3887 - val_accuracy: 0.8433\n",
      "Epoch 59/100\n",
      "13/13 [==============================] - 17s 1s/step - loss: 0.1025 - accuracy: 0.9591 - val_loss: 0.2494 - val_accuracy: 0.8955\n",
      "Epoch 60/100\n",
      "13/13 [==============================] - 17s 1s/step - loss: 0.0536 - accuracy: 0.9856 - val_loss: 0.2107 - val_accuracy: 0.8881\n",
      "Epoch 61/100\n",
      "13/13 [==============================] - 17s 1s/step - loss: 0.0344 - accuracy: 0.9904 - val_loss: 0.1631 - val_accuracy: 0.9104\n",
      "Epoch 62/100\n",
      "13/13 [==============================] - 17s 1s/step - loss: 0.0263 - accuracy: 0.9904 - val_loss: 0.0991 - val_accuracy: 0.9552\n",
      "Epoch 63/100\n",
      "13/13 [==============================] - 17s 1s/step - loss: 0.0758 - accuracy: 0.9736 - val_loss: 0.4590 - val_accuracy: 0.8358\n",
      "Epoch 64/100\n",
      "13/13 [==============================] - 17s 1s/step - loss: 0.1253 - accuracy: 0.9591 - val_loss: 0.3645 - val_accuracy: 0.8582\n",
      "Epoch 65/100\n",
      "13/13 [==============================] - 16s 1s/step - loss: 0.1299 - accuracy: 0.9471 - val_loss: 0.2750 - val_accuracy: 0.8806\n",
      "Epoch 66/100\n",
      "13/13 [==============================] - 17s 1s/step - loss: 0.0790 - accuracy: 0.9663 - val_loss: 0.2819 - val_accuracy: 0.8657\n",
      "Epoch 67/100\n",
      "13/13 [==============================] - 17s 1s/step - loss: 0.0811 - accuracy: 0.9808 - val_loss: 0.1646 - val_accuracy: 0.9328\n",
      "Epoch 68/100\n",
      "13/13 [==============================] - 17s 1s/step - loss: 0.0359 - accuracy: 0.9904 - val_loss: 0.2438 - val_accuracy: 0.9030\n",
      "Epoch 69/100\n",
      "13/13 [==============================] - 17s 1s/step - loss: 0.0177 - accuracy: 0.9952 - val_loss: 0.1293 - val_accuracy: 0.9478\n",
      "Epoch 70/100\n",
      "13/13 [==============================] - 17s 1s/step - loss: 0.0203 - accuracy: 0.9952 - val_loss: 0.1216 - val_accuracy: 0.9627\n",
      "Epoch 71/100\n",
      "13/13 [==============================] - 17s 1s/step - loss: 0.0621 - accuracy: 0.9784 - val_loss: 0.2759 - val_accuracy: 0.8806\n",
      "Epoch 72/100\n",
      "13/13 [==============================] - 17s 1s/step - loss: 0.0756 - accuracy: 0.9736 - val_loss: 0.2956 - val_accuracy: 0.9104\n",
      "Epoch 73/100\n",
      "13/13 [==============================] - 17s 1s/step - loss: 0.0772 - accuracy: 0.9760 - val_loss: 0.2491 - val_accuracy: 0.9104\n",
      "Epoch 74/100\n",
      "13/13 [==============================] - 17s 1s/step - loss: 0.0696 - accuracy: 0.9760 - val_loss: 0.1729 - val_accuracy: 0.9179\n",
      "Epoch 75/100\n",
      "13/13 [==============================] - 17s 1s/step - loss: 0.0296 - accuracy: 0.9952 - val_loss: 0.0952 - val_accuracy: 0.9701\n",
      "Epoch 76/100\n",
      "13/13 [==============================] - 17s 1s/step - loss: 0.0110 - accuracy: 0.9976 - val_loss: 0.1062 - val_accuracy: 0.9627\n",
      "Epoch 77/100\n",
      "13/13 [==============================] - 17s 1s/step - loss: 0.0282 - accuracy: 0.9952 - val_loss: 0.4268 - val_accuracy: 0.8731\n",
      "Epoch 78/100\n",
      "13/13 [==============================] - 17s 1s/step - loss: 0.0931 - accuracy: 0.9591 - val_loss: 0.3270 - val_accuracy: 0.8731\n",
      "Epoch 79/100\n",
      "13/13 [==============================] - 17s 1s/step - loss: 0.1128 - accuracy: 0.9639 - val_loss: 0.2188 - val_accuracy: 0.8955\n",
      "Epoch 80/100\n",
      "13/13 [==============================] - 17s 1s/step - loss: 0.0802 - accuracy: 0.9784 - val_loss: 0.2436 - val_accuracy: 0.9030\n",
      "Epoch 81/100\n",
      "13/13 [==============================] - 17s 1s/step - loss: 0.0554 - accuracy: 0.9760 - val_loss: 0.1553 - val_accuracy: 0.9328\n",
      "Epoch 82/100\n",
      "13/13 [==============================] - 17s 1s/step - loss: 0.0249 - accuracy: 0.9928 - val_loss: 0.0964 - val_accuracy: 0.9776\n",
      "Epoch 83/100\n",
      "13/13 [==============================] - 17s 1s/step - loss: 0.0401 - accuracy: 0.9952 - val_loss: 0.1433 - val_accuracy: 0.9552\n",
      "Epoch 84/100\n",
      "13/13 [==============================] - 17s 1s/step - loss: 0.0941 - accuracy: 0.9639 - val_loss: 0.3411 - val_accuracy: 0.8731\n",
      "Epoch 85/100\n",
      "13/13 [==============================] - 17s 1s/step - loss: 0.1158 - accuracy: 0.9615 - val_loss: 0.2709 - val_accuracy: 0.8955\n",
      "Epoch 86/100\n",
      "13/13 [==============================] - 17s 1s/step - loss: 0.0698 - accuracy: 0.9736 - val_loss: 0.2544 - val_accuracy: 0.8955\n",
      "Epoch 87/100\n",
      "13/13 [==============================] - 17s 1s/step - loss: 0.0752 - accuracy: 0.9760 - val_loss: 0.2320 - val_accuracy: 0.9030\n",
      "Epoch 88/100\n",
      "13/13 [==============================] - 17s 1s/step - loss: 0.0518 - accuracy: 0.9856 - val_loss: 0.2384 - val_accuracy: 0.9030\n",
      "Epoch 89/100\n",
      "13/13 [==============================] - 17s 1s/step - loss: 0.0350 - accuracy: 0.9856 - val_loss: 0.1899 - val_accuracy: 0.9254\n",
      "Epoch 90/100\n",
      "13/13 [==============================] - 17s 1s/step - loss: 0.0256 - accuracy: 0.9880 - val_loss: 0.1773 - val_accuracy: 0.9478\n",
      "Epoch 91/100\n",
      "13/13 [==============================] - 17s 1s/step - loss: 0.0188 - accuracy: 0.9952 - val_loss: 0.1526 - val_accuracy: 0.9403\n",
      "Epoch 92/100\n",
      "13/13 [==============================] - 17s 1s/step - loss: 0.0045 - accuracy: 1.0000 - val_loss: 0.1098 - val_accuracy: 0.9328\n",
      "Epoch 93/100\n",
      "13/13 [==============================] - 17s 1s/step - loss: 0.0039 - accuracy: 1.0000 - val_loss: 0.1023 - val_accuracy: 0.9478\n",
      "Epoch 94/100\n",
      "13/13 [==============================] - 17s 1s/step - loss: 0.0114 - accuracy: 0.9952 - val_loss: 0.0912 - val_accuracy: 0.9627\n",
      "Epoch 95/100\n",
      "13/13 [==============================] - 17s 1s/step - loss: 0.0059 - accuracy: 0.9976 - val_loss: 0.1152 - val_accuracy: 0.9403\n",
      "Epoch 96/100\n",
      "13/13 [==============================] - 17s 1s/step - loss: 0.0027 - accuracy: 1.0000 - val_loss: 0.1165 - val_accuracy: 0.9552\n",
      "Epoch 97/100\n",
      "13/13 [==============================] - 17s 1s/step - loss: 0.0122 - accuracy: 0.9952 - val_loss: 0.1061 - val_accuracy: 0.9776\n",
      "Epoch 98/100\n",
      "13/13 [==============================] - 17s 1s/step - loss: 0.0080 - accuracy: 0.9952 - val_loss: 0.0942 - val_accuracy: 0.9701\n",
      "Epoch 99/100\n",
      "13/13 [==============================] - 17s 1s/step - loss: 0.0024 - accuracy: 1.0000 - val_loss: 0.2168 - val_accuracy: 0.9179\n",
      "Epoch 100/100\n",
      "13/13 [==============================] - 17s 1s/step - loss: 0.0107 - accuracy: 0.9976 - val_loss: 0.0912 - val_accuracy: 0.9701\n"
     ]
    }
   ],
   "source": [
    "# fit the model\n",
    "# Run the cell. It will take some time to execute\n",
    "r = model.fit_generator(\n",
    "  training_set,\n",
    "  validation_data=test_set,\n",
    "  epochs=100,\n",
    "  steps_per_epoch=len(training_set),\n",
    "  validation_steps=len(test_set)\n",
    ")"
   ]
  },
  {
   "cell_type": "code",
   "execution_count": 18,
   "metadata": {},
   "outputs": [
    {
     "data": {
      "image/png": "[encoded data removed]",
      "text/plain": [
       "<Figure size 432x288 with 1 Axes>"
      ]
     },
     "metadata": {
      "needs_background": "light"
     },
     "output_type": "display_data"
    },
    {
     "data": {
      "image/png": "[encoded data removed]",
      "text/plain": [
       "<Figure size 432x288 with 1 Axes>"
      ]
     },
     "metadata": {
      "needs_background": "light"
     },
     "output_type": "display_data"
    },
    {
     "data": {
      "text/plain": [
       "<Figure size 432x288 with 0 Axes>"
      ]
     },
     "metadata": {},
     "output_type": "display_data"
    }
   ],
   "source": [
    "# plot the loss\n",
    "plt.plot(r.history['loss'], label='train loss')\n",
    "plt.plot(r.history['val_loss'], label='val loss')\n",
    "plt.legend()\n",
    "plt.show()\n",
    "plt.savefig('LossVal_loss')\n",
    "\n",
    "# plot the accuracy\n",
    "plt.plot(r.history['accuracy'], label='train acc')\n",
    "plt.plot(r.history['val_accuracy'], label='val acc')\n",
    "plt.legend()\n",
    "plt.show()\n",
    "plt.savefig('AccVal_acc')"
   ]
  },
  {
   "cell_type": "code",
   "execution_count": 19,
   "metadata": {},
   "outputs": [],
   "source": [
    "# save it as a h5 file\n",
    "\n",
    "from tensorflow.keras.models import load_model\n",
    "\n",
    "model.save('model_vgg19.h5')"
   ]
  },
  {
   "cell_type": "code",
   "execution_count": 20,
   "metadata": {},
   "outputs": [],
   "source": [
    "y_pred = model.predict(test_set)"
   ]
  },
  {
   "cell_type": "code",
   "execution_count": 21,
   "metadata": {},
   "outputs": [
    {
     "data": {
      "text/plain": [
       "array([[1.00000000e+00, 1.15727028e-09],\n",
       "       [5.42608881e-03, 9.94573891e-01],\n",
       "       [4.79931757e-02, 9.52006817e-01],\n",
       "       [1.00000000e+00, 2.96493183e-28],\n",
       "       [1.00000000e+00, 1.16934090e-16],\n",
       "       [1.00000000e+00, 2.66796469e-22],\n",
       "       [1.00000000e+00, 2.23982148e-08],\n",
       "       [1.00000000e+00, 1.09653961e-11],\n",
       "       [7.01443553e-01, 2.98556447e-01],\n",
       "       [3.14288819e-03, 9.96857047e-01],\n",
       "       [3.34426365e-03, 9.96655703e-01],\n",
       "       [2.94956821e-03, 9.97050405e-01],\n",
       "       [6.03386164e-02, 9.39661384e-01],\n",
       "       [2.31844619e-01, 7.68155396e-01],\n",
       "       [1.00000000e+00, 4.23128329e-14],\n",
       "       [1.00000000e+00, 0.00000000e+00],\n",
       "       [1.00000000e+00, 3.98031265e-20],\n",
       "       [9.99894977e-01, 1.05017782e-04],\n",
       "       [3.24174851e-01, 6.75825119e-01],\n",
       "       [1.00000000e+00, 5.12316058e-12],\n",
       "       [1.00000000e+00, 7.77652776e-10],\n",
       "       [1.00000000e+00, 0.00000000e+00],\n",
       "       [9.21523664e-03, 9.90784764e-01],\n",
       "       [1.00000000e+00, 2.16544858e-25],\n",
       "       [1.00000000e+00, 3.52093680e-13],\n",
       "       [1.51033467e-02, 9.84896660e-01],\n",
       "       [1.00000000e+00, 7.06236632e-12],\n",
       "       [9.99990225e-01, 9.74208797e-06],\n",
       "       [7.59977102e-03, 9.92400169e-01],\n",
       "       [9.99999046e-01, 9.52757944e-07],\n",
       "       [1.09252175e-02, 9.89074767e-01],\n",
       "       [1.00000000e+00, 2.79136702e-22],\n",
       "       [1.32364244e-03, 9.98676360e-01],\n",
       "       [7.18207657e-01, 2.81792283e-01],\n",
       "       [9.98794436e-01, 1.20550860e-03],\n",
       "       [1.00000000e+00, 2.57505389e-13],\n",
       "       [1.00000000e+00, 1.59244284e-11],\n",
       "       [1.66409910e-02, 9.83359039e-01],\n",
       "       [1.00000000e+00, 7.45210943e-19],\n",
       "       [1.00000000e+00, 2.54298796e-12],\n",
       "       [9.99314308e-01, 6.85644220e-04],\n",
       "       [1.80466622e-02, 9.81953263e-01],\n",
       "       [1.00000000e+00, 9.55756145e-21],\n",
       "       [1.00000000e+00, 2.25838957e-14],\n",
       "       [3.76679711e-02, 9.62332070e-01],\n",
       "       [9.96115685e-01, 3.88430851e-03],\n",
       "       [8.95869255e-01, 1.04130685e-01],\n",
       "       [9.75398123e-01, 2.46018711e-02],\n",
       "       [1.00000000e+00, 5.02062747e-32],\n",
       "       [1.64298102e-01, 8.35701942e-01],\n",
       "       [9.99992609e-01, 7.36950642e-06],\n",
       "       [1.57624111e-02, 9.84237611e-01],\n",
       "       [1.00000000e+00, 1.48578912e-31],\n",
       "       [5.89513639e-03, 9.94104922e-01],\n",
       "       [1.00000000e+00, 0.00000000e+00],\n",
       "       [9.93941426e-01, 6.05855882e-03],\n",
       "       [9.99992490e-01, 7.53623635e-06],\n",
       "       [1.00000000e+00, 4.92051332e-14],\n",
       "       [1.24090246e-03, 9.98759151e-01],\n",
       "       [2.30763992e-03, 9.97692347e-01],\n",
       "       [1.00000000e+00, 3.43258017e-12],\n",
       "       [1.00000000e+00, 2.45311515e-36],\n",
       "       [1.00000000e+00, 2.97591500e-11],\n",
       "       [9.61220205e-01, 3.87797914e-02],\n",
       "       [1.03039853e-03, 9.98969555e-01],\n",
       "       [1.00000000e+00, 3.49988746e-16],\n",
       "       [9.99998331e-01, 1.65729557e-06],\n",
       "       [5.86057484e-01, 4.13942426e-01],\n",
       "       [2.57088500e-03, 9.97429073e-01],\n",
       "       [1.00000000e+00, 5.61815902e-18],\n",
       "       [1.00000000e+00, 7.14718874e-18],\n",
       "       [1.00000000e+00, 8.94923706e-19],\n",
       "       [1.00000000e+00, 1.71290796e-23],\n",
       "       [1.00000000e+00, 1.56266262e-13],\n",
       "       [1.00000000e+00, 9.52648793e-11],\n",
       "       [7.59152919e-02, 9.24084723e-01],\n",
       "       [1.00000000e+00, 8.62111778e-19],\n",
       "       [1.00000000e+00, 1.52729365e-13],\n",
       "       [1.00000000e+00, 2.82543189e-09],\n",
       "       [1.00000000e+00, 1.06151751e-16],\n",
       "       [1.00000000e+00, 3.43616818e-13],\n",
       "       [3.83118750e-03, 9.96168792e-01],\n",
       "       [1.00000000e+00, 2.42282128e-09],\n",
       "       [1.00000000e+00, 1.54211799e-19],\n",
       "       [1.00000000e+00, 0.00000000e+00],\n",
       "       [1.00000000e+00, 1.32697984e-30],\n",
       "       [1.00000000e+00, 1.01072394e-28],\n",
       "       [1.00000000e+00, 7.17835215e-14],\n",
       "       [1.00000000e+00, 2.21634637e-23],\n",
       "       [1.02373865e-02, 9.89762604e-01],\n",
       "       [1.00000000e+00, 3.04316468e-11],\n",
       "       [1.00000000e+00, 3.65765838e-12],\n",
       "       [1.00000000e+00, 3.48273372e-16],\n",
       "       [1.00000000e+00, 1.30029603e-12],\n",
       "       [1.00040153e-01, 8.99959862e-01],\n",
       "       [8.13139544e-04, 9.99186814e-01],\n",
       "       [1.00000000e+00, 2.04273445e-10],\n",
       "       [1.00000000e+00, 0.00000000e+00],\n",
       "       [1.00000000e+00, 2.11162206e-21],\n",
       "       [1.00000000e+00, 7.31977604e-11],\n",
       "       [5.80511568e-03, 9.94194925e-01],\n",
       "       [9.99676228e-01, 3.23759799e-04],\n",
       "       [1.00000000e+00, 4.65742930e-15],\n",
       "       [1.00000000e+00, 5.23594952e-11],\n",
       "       [1.00000000e+00, 7.01172159e-28],\n",
       "       [1.00000000e+00, 6.32639496e-11],\n",
       "       [1.00000000e+00, 3.87941519e-11],\n",
       "       [1.00000000e+00, 1.49739662e-16],\n",
       "       [1.72035070e-03, 9.98279691e-01],\n",
       "       [5.32944687e-03, 9.94670570e-01],\n",
       "       [3.55481096e-02, 9.64451909e-01],\n",
       "       [1.00000000e+00, 1.40839707e-09],\n",
       "       [8.30619317e-03, 9.91693795e-01],\n",
       "       [1.30594871e-03, 9.98694122e-01],\n",
       "       [3.39806313e-04, 9.99660254e-01],\n",
       "       [1.00000000e+00, 5.71277735e-32],\n",
       "       [4.35127324e-04, 9.99564826e-01],\n",
       "       [2.40951939e-03, 9.97590542e-01],\n",
       "       [9.99454796e-01, 5.45205490e-04],\n",
       "       [1.47542268e-01, 8.52457643e-01],\n",
       "       [8.63489747e-01, 1.36510268e-01],\n",
       "       [6.46044314e-03, 9.93539512e-01],\n",
       "       [4.91175130e-02, 9.50882435e-01],\n",
       "       [1.00000000e+00, 4.53359128e-08],\n",
       "       [1.00000000e+00, 1.59288834e-16],\n",
       "       [5.86178452e-02, 9.41382110e-01],\n",
       "       [1.00000000e+00, 5.00762945e-21],\n",
       "       [1.00000000e+00, 2.01752037e-09],\n",
       "       [9.38536525e-02, 9.06146348e-01],\n",
       "       [1.00000000e+00, 1.12553008e-18],\n",
       "       [7.69146369e-04, 9.99230862e-01],\n",
       "       [6.18494861e-03, 9.93815064e-01],\n",
       "       [4.69302700e-04, 9.99530673e-01],\n",
       "       [1.00000000e+00, 0.00000000e+00]], dtype=float32)"
      ]
     },
     "execution_count": 21,
     "metadata": {},
     "output_type": "execute_result"
    }
   ],
   "source": [
    "y_pred"
   ]
  },
  {
   "cell_type": "code",
   "execution_count": 22,
   "metadata": {},
   "outputs": [],
   "source": [
    "import numpy as np\n",
    "y_pred = np.argmax(y_pred, axis=1)"
   ]
  },
  {
   "cell_type": "code",
   "execution_count": 23,
   "metadata": {},
   "outputs": [
    {
     "data": {
      "text/plain": [
       "array([0, 1, 1, 0, 0, 0, 0, 0, 0, 1, 1, 1, 1, 1, 0, 0, 0, 0, 1, 0, 0, 0,\n",
       "       1, 0, 0, 1, 0, 0, 1, 0, 1, 0, 1, 0, 0, 0, 0, 1, 0, 0, 0, 1, 0, 0,\n",
       "       1, 0, 0, 0, 0, 1, 0, 1, 0, 1, 0, 0, 0, 0, 1, 1, 0, 0, 0, 0, 1, 0,\n",
       "       0, 0, 1, 0, 0, 0, 0, 0, 0, 1, 0, 0, 0, 0, 0, 1, 0, 0, 0, 0, 0, 0,\n",
       "       0, 1, 0, 0, 0, 0, 1, 1, 0, 0, 0, 0, 1, 0, 0, 0, 0, 0, 0, 0, 1, 1,\n",
       "       1, 0, 1, 1, 1, 0, 1, 1, 0, 1, 0, 1, 1, 0, 0, 1, 0, 0, 1, 0, 1, 1,\n",
       "       1, 0], dtype=int64)"
      ]
     },
     "execution_count": 23,
     "metadata": {},
     "output_type": "execute_result"
    }
   ],
   "source": [
    "y_pred"
   ]
  },
  {
   "cell_type": "code",
   "execution_count": 24,
   "metadata": {},
   "outputs": [],
   "source": [
    "from tensorflow.keras.models import load_model\n",
    "from tensorflow.keras.preprocessing import image"
   ]
  },
  {
   "cell_type": "code",
   "execution_count": 25,
   "metadata": {},
   "outputs": [],
   "source": [
    "model=load_model('model_vgg19.h5')"
   ]
  },
  {
   "cell_type": "code",
   "execution_count": 36,
   "metadata": {},
   "outputs": [],
   "source": [
    "img=image.load_img('Dataset/Test/Parasite/3.png',target_size=(224,224))"
   ]
  },
  {
   "cell_type": "code",
   "execution_count": 37,
   "metadata": {},
   "outputs": [
    {
     "data": {
      "text/plain": [
       "array([[[0., 0., 0.],\n",
       "        [0., 0., 0.],\n",
       "        [0., 0., 0.],\n",
       "        ...,\n",
       "        [0., 0., 0.],\n",
       "        [0., 0., 0.],\n",
       "        [0., 0., 0.]],\n",
       "\n",
       "       [[0., 0., 0.],\n",
       "        [0., 0., 0.],\n",
       "        [0., 0., 0.],\n",
       "        ...,\n",
       "        [0., 0., 0.],\n",
       "        [0., 0., 0.],\n",
       "        [0., 0., 0.]],\n",
       "\n",
       "       [[0., 0., 0.],\n",
       "        [0., 0., 0.],\n",
       "        [0., 0., 0.],\n",
       "        ...,\n",
       "        [0., 0., 0.],\n",
       "        [0., 0., 0.],\n",
       "        [0., 0., 0.]],\n",
       "\n",
       "       ...,\n",
       "\n",
       "       [[0., 0., 0.],\n",
       "        [0., 0., 0.],\n",
       "        [0., 0., 0.],\n",
       "        ...,\n",
       "        [0., 0., 0.],\n",
       "        [0., 0., 0.],\n",
       "        [0., 0., 0.]],\n",
       "\n",
       "       [[0., 0., 0.],\n",
       "        [0., 0., 0.],\n",
       "        [0., 0., 0.],\n",
       "        ...,\n",
       "        [0., 0., 0.],\n",
       "        [0., 0., 0.],\n",
       "        [0., 0., 0.]],\n",
       "\n",
       "       [[0., 0., 0.],\n",
       "        [0., 0., 0.],\n",
       "        [0., 0., 0.],\n",
       "        ...,\n",
       "        [0., 0., 0.],\n",
       "        [0., 0., 0.],\n",
       "        [0., 0., 0.]]], dtype=float32)"
      ]
     },
     "execution_count": 37,
     "metadata": {},
     "output_type": "execute_result"
    }
   ],
   "source": [
    "x=image.img_to_array(img)\n",
    "x"
   ]
  },
  {
   "cell_type": "code",
   "execution_count": 38,
   "metadata": {},
   "outputs": [
    {
     "data": {
      "text/plain": [
       "(224, 224, 3)"
      ]
     },
     "execution_count": 38,
     "metadata": {},
     "output_type": "execute_result"
    }
   ],
   "source": [
    "x.shape"
   ]
  },
  {
   "cell_type": "code",
   "execution_count": 39,
   "metadata": {},
   "outputs": [],
   "source": [
    "x=x/255"
   ]
  },
  {
   "cell_type": "code",
   "execution_count": 40,
   "metadata": {},
   "outputs": [
    {
     "data": {
      "text/plain": [
       "(1, 224, 224, 3)"
      ]
     },
     "execution_count": 40,
     "metadata": {},
     "output_type": "execute_result"
    }
   ],
   "source": [
    "x=np.expand_dims(x,axis=0)\n",
    "img_data=preprocess_input(x)\n",
    "img_data.shape"
   ]
  },
  {
   "cell_type": "code",
   "execution_count": 41,
   "metadata": {},
   "outputs": [
    {
     "data": {
      "text/plain": [
       "array([[1., 0.]], dtype=float32)"
      ]
     },
     "execution_count": 41,
     "metadata": {},
     "output_type": "execute_result"
    }
   ],
   "source": [
    "model.predict(img_data)"
   ]
  },
  {
   "cell_type": "code",
   "execution_count": 42,
   "metadata": {},
   "outputs": [],
   "source": [
    "a=np.argmax(model.predict(img_data), axis=1)"
   ]
  },
  {
   "cell_type": "code",
   "execution_count": 45,
   "metadata": {},
   "outputs": [
    {
     "name": "stdout",
     "output_type": "stream",
     "text": [
      "Infected\n"
     ]
    }
   ],
   "source": [
    "if(a==1):\n",
    "    print(\"Uninfected\")\n",
    "else:\n",
    "    print(\"Infected\")"
   ]
  }
 ],
 "metadata": {
  "kernelspec": {
   "display_name": "Python 3",
   "language": "python",
   "name": "python3"
  },
  "language_info": {
   "codemirror_mode": {
    "name": "ipython",
    "version": 3
   },
   "file_extension": ".py",
   "mimetype": "text/x-python",
   "name": "python",
   "nbconvert_exporter": "python",
   "pygments_lexer": "ipython3",
   "version": "3.7.6"
  }
 },
 "nbformat": 4,
 "nbformat_minor": 2
}
